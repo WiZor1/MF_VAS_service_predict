{
 "cells": [
  {
   "cell_type": "markdown",
   "metadata": {},
   "source": [
    "![title](MF_main.png \"Изображение взято с ресурса https://kod.ru/megafon-cashback-jun-2019/\")"
   ]
  },
  {
   "cell_type": "markdown",
   "metadata": {},
   "source": [
    "Телекоммуникационные компании сейчас существуют не только за счет базовых услуг по предоставлению связи, наподобие обычных звонков и СМС, а уже давно расширяют арсенал возможностей:\n",
    "* во-первых, для создания клиентской базы, которая будет меньше нуждаться в сторонних решениях (больше пользоваться киносервисом `START` вместо `Кинопоиска` и т.д.)\n",
    "* во-вторых, для поиска новых путей получения прибыли и сфер влияния.\n",
    "\n",
    "Именно поэтому важно привлекать новых клиентов к наилучшим предложениям (а также старых уже проверенных абонентов к новым решениям), но делать это необходимо не безраборно, а с максимальной выгодой для компании. Для решения этой проблемы ниже будет рассмотрен алгоритм предложения различных услуг клиентам \"Мегафона\" в различные временные периоды.\n",
    "\n",
    "-----\n",
    "\n",
    "*P.S. Обезличенные исходные данные получены от самих представителей компании, не представляется возможным восстановить какие-либо транзакции и персональные данные на из основе.*\n",
    "\n",
    "----"
   ]
  },
  {
   "cell_type": "markdown",
   "metadata": {},
   "source": [
    "Стандартыне процедуры подключения библиотек и загрузок датасетов:"
   ]
  },
  {
   "cell_type": "code",
   "execution_count": 22,
   "metadata": {},
   "outputs": [],
   "source": [
    "import pandas as pd\n",
    "import numpy as np\n",
    "from dask import dataframe as dd\n",
    "from pathlib import Path\n",
    "import datetime\n",
    "from datetime import datetime as dt\n",
    "\n",
    "from sklearn.linear_model import RidgeClassifierCV, LogisticRegressionCV, LogisticRegression\n",
    "from sklearn.metrics import f1_score, precision_score, recall_score, precision_recall_curve\n",
    "\n",
    "from catboost import CatBoostClassifier\n",
    "\n",
    "from matplotlib import pyplot as plt\n",
    "\n",
    "import dill\n",
    "\n",
    "import warnings\n",
    "warnings.filterwarnings(\"ignore\")"
   ]
  },
  {
   "cell_type": "code",
   "execution_count": 3,
   "metadata": {},
   "outputs": [],
   "source": [
    "DATA_PATH = Path('Материалы')\n",
    "FEATS_PATH = DATA_PATH / 'features.csv'\n",
    "\n",
    "dd_df = dd.read_csv(FEATS_PATH / 'features.csv', sep='\\t',)\n",
    "\n",
    "test_df = pd.read_csv(DATA_PATH / 'data_test.csv', parse_dates=['buy_time'])\n",
    "train_df = pd.read_csv(DATA_PATH / 'data_train.csv')"
   ]
  },
  {
   "cell_type": "markdown",
   "metadata": {},
   "source": [
    "### Mini-EDA"
   ]
  },
  {
   "cell_type": "code",
   "execution_count": 3,
   "metadata": {},
   "outputs": [
    {
     "data": {
      "text/html": [
       "<div>\n",
       "<style scoped>\n",
       "    .dataframe tbody tr th:only-of-type {\n",
       "        vertical-align: middle;\n",
       "    }\n",
       "\n",
       "    .dataframe tbody tr th {\n",
       "        vertical-align: top;\n",
       "    }\n",
       "\n",
       "    .dataframe thead th {\n",
       "        text-align: right;\n",
       "    }\n",
       "</style>\n",
       "<table border=\"1\" class=\"dataframe\">\n",
       "  <thead>\n",
       "    <tr style=\"text-align: right;\">\n",
       "      <th></th>\n",
       "      <th>Unnamed: 0</th>\n",
       "      <th>id</th>\n",
       "      <th>vas_id</th>\n",
       "      <th>buy_time</th>\n",
       "    </tr>\n",
       "  </thead>\n",
       "  <tbody>\n",
       "    <tr>\n",
       "      <th>0</th>\n",
       "      <td>0</td>\n",
       "      <td>3130519</td>\n",
       "      <td>2.0</td>\n",
       "      <td>1548018000</td>\n",
       "    </tr>\n",
       "    <tr>\n",
       "      <th>1</th>\n",
       "      <td>1</td>\n",
       "      <td>2000860</td>\n",
       "      <td>4.0</td>\n",
       "      <td>1548018000</td>\n",
       "    </tr>\n",
       "    <tr>\n",
       "      <th>2</th>\n",
       "      <td>2</td>\n",
       "      <td>1099444</td>\n",
       "      <td>2.0</td>\n",
       "      <td>1546808400</td>\n",
       "    </tr>\n",
       "    <tr>\n",
       "      <th>3</th>\n",
       "      <td>3</td>\n",
       "      <td>1343255</td>\n",
       "      <td>5.0</td>\n",
       "      <td>1547413200</td>\n",
       "    </tr>\n",
       "    <tr>\n",
       "      <th>4</th>\n",
       "      <td>4</td>\n",
       "      <td>1277040</td>\n",
       "      <td>2.0</td>\n",
       "      <td>1546808400</td>\n",
       "    </tr>\n",
       "  </tbody>\n",
       "</table>\n",
       "</div>"
      ],
      "text/plain": [
       "   Unnamed: 0       id  vas_id    buy_time\n",
       "0           0  3130519     2.0  1548018000\n",
       "1           1  2000860     4.0  1548018000\n",
       "2           2  1099444     2.0  1546808400\n",
       "3           3  1343255     5.0  1547413200\n",
       "4           4  1277040     2.0  1546808400"
      ]
     },
     "execution_count": 3,
     "metadata": {},
     "output_type": "execute_result"
    }
   ],
   "source": [
    "test_df.head()"
   ]
  },
  {
   "cell_type": "code",
   "execution_count": 4,
   "metadata": {},
   "outputs": [
    {
     "data": {
      "text/html": [
       "<div>\n",
       "<style scoped>\n",
       "    .dataframe tbody tr th:only-of-type {\n",
       "        vertical-align: middle;\n",
       "    }\n",
       "\n",
       "    .dataframe tbody tr th {\n",
       "        vertical-align: top;\n",
       "    }\n",
       "\n",
       "    .dataframe thead th {\n",
       "        text-align: right;\n",
       "    }\n",
       "</style>\n",
       "<table border=\"1\" class=\"dataframe\">\n",
       "  <thead>\n",
       "    <tr style=\"text-align: right;\">\n",
       "      <th></th>\n",
       "      <th>Unnamed: 0</th>\n",
       "      <th>id</th>\n",
       "      <th>buy_time</th>\n",
       "      <th>0</th>\n",
       "      <th>1</th>\n",
       "      <th>2</th>\n",
       "      <th>3</th>\n",
       "      <th>4</th>\n",
       "      <th>5</th>\n",
       "      <th>6</th>\n",
       "      <th>...</th>\n",
       "      <th>243</th>\n",
       "      <th>244</th>\n",
       "      <th>245</th>\n",
       "      <th>246</th>\n",
       "      <th>247</th>\n",
       "      <th>248</th>\n",
       "      <th>249</th>\n",
       "      <th>250</th>\n",
       "      <th>251</th>\n",
       "      <th>252</th>\n",
       "    </tr>\n",
       "  </thead>\n",
       "  <tbody>\n",
       "    <tr>\n",
       "      <th>0</th>\n",
       "      <td>0</td>\n",
       "      <td>2013026</td>\n",
       "      <td>1531688400</td>\n",
       "      <td>18.910029</td>\n",
       "      <td>46.980888</td>\n",
       "      <td>4.969214</td>\n",
       "      <td>-1.386798</td>\n",
       "      <td>3.791754</td>\n",
       "      <td>-14.01179</td>\n",
       "      <td>-16.08618</td>\n",
       "      <td>...</td>\n",
       "      <td>-977.373846</td>\n",
       "      <td>-613.770792</td>\n",
       "      <td>-25.996269</td>\n",
       "      <td>-37.630448</td>\n",
       "      <td>-301.747724</td>\n",
       "      <td>-25.832889</td>\n",
       "      <td>-0.694428</td>\n",
       "      <td>-12.175933</td>\n",
       "      <td>-0.45614</td>\n",
       "      <td>0.0</td>\n",
       "    </tr>\n",
       "    <tr>\n",
       "      <th>1</th>\n",
       "      <td>1</td>\n",
       "      <td>2014722</td>\n",
       "      <td>1539550800</td>\n",
       "      <td>36.690029</td>\n",
       "      <td>152.400888</td>\n",
       "      <td>448.069214</td>\n",
       "      <td>563.833202</td>\n",
       "      <td>463.841754</td>\n",
       "      <td>568.99821</td>\n",
       "      <td>-16.08618</td>\n",
       "      <td>...</td>\n",
       "      <td>-891.373846</td>\n",
       "      <td>-544.770792</td>\n",
       "      <td>-20.996269</td>\n",
       "      <td>48.369552</td>\n",
       "      <td>80.252276</td>\n",
       "      <td>-13.832889</td>\n",
       "      <td>-0.694428</td>\n",
       "      <td>-1.175933</td>\n",
       "      <td>-0.45614</td>\n",
       "      <td>0.0</td>\n",
       "    </tr>\n",
       "    <tr>\n",
       "      <th>2</th>\n",
       "      <td>2</td>\n",
       "      <td>2015199</td>\n",
       "      <td>1545598800</td>\n",
       "      <td>-67.019971</td>\n",
       "      <td>157.050888</td>\n",
       "      <td>-63.180786</td>\n",
       "      <td>178.103202</td>\n",
       "      <td>-68.598246</td>\n",
       "      <td>156.99821</td>\n",
       "      <td>3.51382</td>\n",
       "      <td>...</td>\n",
       "      <td>-977.373846</td>\n",
       "      <td>-613.770792</td>\n",
       "      <td>-12.996269</td>\n",
       "      <td>-37.630448</td>\n",
       "      <td>10829.252276</td>\n",
       "      <td>-25.832889</td>\n",
       "      <td>-0.694428</td>\n",
       "      <td>-12.175933</td>\n",
       "      <td>-0.45614</td>\n",
       "      <td>0.0</td>\n",
       "    </tr>\n",
       "    <tr>\n",
       "      <th>3</th>\n",
       "      <td>3</td>\n",
       "      <td>2021765</td>\n",
       "      <td>1534107600</td>\n",
       "      <td>7.010029</td>\n",
       "      <td>150.200888</td>\n",
       "      <td>-6.930786</td>\n",
       "      <td>216.213202</td>\n",
       "      <td>76.621754</td>\n",
       "      <td>351.84821</td>\n",
       "      <td>-16.08618</td>\n",
       "      <td>...</td>\n",
       "      <td>-973.373846</td>\n",
       "      <td>-613.770792</td>\n",
       "      <td>-23.996269</td>\n",
       "      <td>-37.630448</td>\n",
       "      <td>-205.747724</td>\n",
       "      <td>-24.832889</td>\n",
       "      <td>-0.694428</td>\n",
       "      <td>-11.175933</td>\n",
       "      <td>-0.45614</td>\n",
       "      <td>1.0</td>\n",
       "    </tr>\n",
       "    <tr>\n",
       "      <th>4</th>\n",
       "      <td>4</td>\n",
       "      <td>2027465</td>\n",
       "      <td>1533502800</td>\n",
       "      <td>-90.439971</td>\n",
       "      <td>134.220888</td>\n",
       "      <td>-104.380786</td>\n",
       "      <td>153.643202</td>\n",
       "      <td>-109.798246</td>\n",
       "      <td>132.53821</td>\n",
       "      <td>-16.08618</td>\n",
       "      <td>...</td>\n",
       "      <td>1643.626154</td>\n",
       "      <td>2007.229208</td>\n",
       "      <td>206.003731</td>\n",
       "      <td>-21.630448</td>\n",
       "      <td>6667.252276</td>\n",
       "      <td>92.167111</td>\n",
       "      <td>-0.694428</td>\n",
       "      <td>49.824067</td>\n",
       "      <td>47.54386</td>\n",
       "      <td>0.0</td>\n",
       "    </tr>\n",
       "  </tbody>\n",
       "</table>\n",
       "<p>5 rows × 256 columns</p>\n",
       "</div>"
      ],
      "text/plain": [
       "   Unnamed: 0       id    buy_time          0           1           2  \\\n",
       "0           0  2013026  1531688400  18.910029   46.980888    4.969214   \n",
       "1           1  2014722  1539550800  36.690029  152.400888  448.069214   \n",
       "2           2  2015199  1545598800 -67.019971  157.050888  -63.180786   \n",
       "3           3  2021765  1534107600   7.010029  150.200888   -6.930786   \n",
       "4           4  2027465  1533502800 -90.439971  134.220888 -104.380786   \n",
       "\n",
       "            3           4          5         6  ...          243          244  \\\n",
       "0   -1.386798    3.791754  -14.01179 -16.08618  ...  -977.373846  -613.770792   \n",
       "1  563.833202  463.841754  568.99821 -16.08618  ...  -891.373846  -544.770792   \n",
       "2  178.103202  -68.598246  156.99821   3.51382  ...  -977.373846  -613.770792   \n",
       "3  216.213202   76.621754  351.84821 -16.08618  ...  -973.373846  -613.770792   \n",
       "4  153.643202 -109.798246  132.53821 -16.08618  ...  1643.626154  2007.229208   \n",
       "\n",
       "          245        246           247        248       249        250  \\\n",
       "0  -25.996269 -37.630448   -301.747724 -25.832889 -0.694428 -12.175933   \n",
       "1  -20.996269  48.369552     80.252276 -13.832889 -0.694428  -1.175933   \n",
       "2  -12.996269 -37.630448  10829.252276 -25.832889 -0.694428 -12.175933   \n",
       "3  -23.996269 -37.630448   -205.747724 -24.832889 -0.694428 -11.175933   \n",
       "4  206.003731 -21.630448   6667.252276  92.167111 -0.694428  49.824067   \n",
       "\n",
       "        251  252  \n",
       "0  -0.45614  0.0  \n",
       "1  -0.45614  0.0  \n",
       "2  -0.45614  0.0  \n",
       "3  -0.45614  1.0  \n",
       "4  47.54386  0.0  \n",
       "\n",
       "[5 rows x 256 columns]"
      ]
     },
     "execution_count": 4,
     "metadata": {},
     "output_type": "execute_result"
    }
   ],
   "source": [
    "dd_df.head()"
   ]
  },
  {
   "cell_type": "markdown",
   "metadata": {},
   "source": [
    "Как видно, исходные списки предложений о подключениях содержат только `id`абонента, VAS услуги и времени в формате **timestamp[s]**, в таком же формате находится и время в таблице признаков. Переведем их в более привычный **datetime** (также столбцы `Unnamed: 0` во всех выгрузках играют роль индекса и неинформативны, их можно в дальнейшем удалить):"
   ]
  },
  {
   "cell_type": "code",
   "execution_count": 8,
   "metadata": {},
   "outputs": [
    {
     "name": "stdout",
     "output_type": "stream",
     "text": [
      "Wall time: 55 ms\n"
     ]
    }
   ],
   "source": [
    "%%time\n",
    "test_df['buy_time'] = pd.to_datetime(test_df['buy_time'], unit='s')\n",
    "train_df['buy_time'] = pd.to_datetime(train_df['buy_time'], unit='s')\n",
    "\n",
    "dtime = dd_df.buy_time\n",
    "dd_df['buy_time'] = dtime.map_partitions(pd.to_datetime, unit='s')"
   ]
  },
  {
   "cell_type": "code",
   "execution_count": 6,
   "metadata": {
    "scrolled": true
   },
   "outputs": [
    {
     "data": {
      "text/html": [
       "<div>\n",
       "<style scoped>\n",
       "    .dataframe tbody tr th:only-of-type {\n",
       "        vertical-align: middle;\n",
       "    }\n",
       "\n",
       "    .dataframe tbody tr th {\n",
       "        vertical-align: top;\n",
       "    }\n",
       "\n",
       "    .dataframe thead th {\n",
       "        text-align: right;\n",
       "    }\n",
       "</style>\n",
       "<table border=\"1\" class=\"dataframe\">\n",
       "  <thead>\n",
       "    <tr style=\"text-align: right;\">\n",
       "      <th></th>\n",
       "      <th>Unnamed: 0</th>\n",
       "      <th>id</th>\n",
       "      <th>vas_id</th>\n",
       "      <th>buy_time</th>\n",
       "    </tr>\n",
       "  </thead>\n",
       "  <tbody>\n",
       "    <tr>\n",
       "      <th>0</th>\n",
       "      <td>0</td>\n",
       "      <td>3130519</td>\n",
       "      <td>2.0</td>\n",
       "      <td>2019-01-20 21:00:00</td>\n",
       "    </tr>\n",
       "    <tr>\n",
       "      <th>1</th>\n",
       "      <td>1</td>\n",
       "      <td>2000860</td>\n",
       "      <td>4.0</td>\n",
       "      <td>2019-01-20 21:00:00</td>\n",
       "    </tr>\n",
       "    <tr>\n",
       "      <th>2</th>\n",
       "      <td>2</td>\n",
       "      <td>1099444</td>\n",
       "      <td>2.0</td>\n",
       "      <td>2019-01-06 21:00:00</td>\n",
       "    </tr>\n",
       "    <tr>\n",
       "      <th>3</th>\n",
       "      <td>3</td>\n",
       "      <td>1343255</td>\n",
       "      <td>5.0</td>\n",
       "      <td>2019-01-13 21:00:00</td>\n",
       "    </tr>\n",
       "    <tr>\n",
       "      <th>4</th>\n",
       "      <td>4</td>\n",
       "      <td>1277040</td>\n",
       "      <td>2.0</td>\n",
       "      <td>2019-01-06 21:00:00</td>\n",
       "    </tr>\n",
       "  </tbody>\n",
       "</table>\n",
       "</div>"
      ],
      "text/plain": [
       "   Unnamed: 0       id  vas_id            buy_time\n",
       "0           0  3130519     2.0 2019-01-20 21:00:00\n",
       "1           1  2000860     4.0 2019-01-20 21:00:00\n",
       "2           2  1099444     2.0 2019-01-06 21:00:00\n",
       "3           3  1343255     5.0 2019-01-13 21:00:00\n",
       "4           4  1277040     2.0 2019-01-06 21:00:00"
      ]
     },
     "execution_count": 6,
     "metadata": {},
     "output_type": "execute_result"
    }
   ],
   "source": [
    "test_df.head()"
   ]
  },
  {
   "cell_type": "markdown",
   "metadata": {},
   "source": [
    "Можно заметить, что первые значения имеют одинаковое время, но разную дату. Это наталкивает на мысль о том, что в выгрузках данные с достаточно крупными агрегациями - раз в день -, что будет достаточно сильно ограничивать дальнейшую аналитику. Если по всей выборке время будет одинаковым, то гипотезу точно можно будет считать верной:"
   ]
  },
  {
   "cell_type": "code",
   "execution_count": 26,
   "metadata": {},
   "outputs": [
    {
     "data": {
      "text/plain": [
       "array([21], dtype=int64)"
      ]
     },
     "execution_count": 26,
     "metadata": {},
     "output_type": "execute_result"
    }
   ],
   "source": [
    "pd.to_datetime(train_df['buy_time'], unit='s').dt.hour.unique()"
   ]
  },
  {
   "cell_type": "code",
   "execution_count": 28,
   "metadata": {},
   "outputs": [
    {
     "data": {
      "text/plain": [
       "0    21\n",
       "Name: buy_time, dtype: int64"
      ]
     },
     "execution_count": 28,
     "metadata": {},
     "output_type": "execute_result"
    }
   ],
   "source": [
    "dtime = dd_df.buy_time\n",
    "dtime.map_partitions(pd.to_datetime, unit='s').dt.hour.unique().compute()"
   ]
  },
  {
   "cell_type": "markdown",
   "metadata": {},
   "source": [
    "Действительно, агрегация данных на текущий момент как минимум суточная (далее проверим на более крупную). Исходя из этого возникает ряд проблем:\n",
    "* нельзя рассматривать отдельно случаи подключения абонентов в разное время суток;\n",
    "* нельзя однозначно сказать, конкретное измерение относилось к текущим суткам или следуюшим из-за того, что ЧНН активности пользователей часто близок к вечерним часам. Наиболее удачное решение было бы сместить время примерно к 3-4 часам ночи - наименьшей активности абонентов."
   ]
  },
  {
   "cell_type": "markdown",
   "metadata": {},
   "source": [
    "Выведем список всех значений дат, т.к. агрегация минимум дневная и датасет содержит данные за 4 месяца, то строк не должно быть много:"
   ]
  },
  {
   "cell_type": "code",
   "execution_count": 30,
   "metadata": {},
   "outputs": [
    {
     "data": {
      "text/plain": [
       "array(['2018-07-08T21:00:00.000000000', '2018-07-15T21:00:00.000000000',\n",
       "       '2018-07-22T21:00:00.000000000', '2018-07-29T21:00:00.000000000',\n",
       "       '2018-08-05T21:00:00.000000000', '2018-08-12T21:00:00.000000000',\n",
       "       '2018-08-19T21:00:00.000000000', '2018-08-26T21:00:00.000000000',\n",
       "       '2018-09-02T21:00:00.000000000', '2018-09-09T21:00:00.000000000',\n",
       "       '2018-09-16T21:00:00.000000000', '2018-09-23T21:00:00.000000000',\n",
       "       '2018-09-30T21:00:00.000000000', '2018-10-07T21:00:00.000000000',\n",
       "       '2018-10-14T21:00:00.000000000', '2018-10-21T21:00:00.000000000',\n",
       "       '2018-10-28T21:00:00.000000000', '2018-11-04T21:00:00.000000000',\n",
       "       '2018-11-11T21:00:00.000000000', '2018-11-18T21:00:00.000000000',\n",
       "       '2018-11-25T21:00:00.000000000', '2018-12-02T21:00:00.000000000',\n",
       "       '2018-12-09T21:00:00.000000000', '2018-12-16T21:00:00.000000000',\n",
       "       '2018-12-23T21:00:00.000000000', '2018-12-30T21:00:00.000000000'],\n",
       "      dtype='datetime64[ns]')"
      ]
     },
     "execution_count": 30,
     "metadata": {},
     "output_type": "execute_result"
    }
   ],
   "source": [
    "np.sort(pd.to_datetime(train_df['buy_time'], unit='s').unique())"
   ]
  },
  {
   "cell_type": "code",
   "execution_count": 31,
   "metadata": {},
   "outputs": [
    {
     "data": {
      "text/plain": [
       "array(['2019-01-06T21:00:00.000000000', '2019-01-13T21:00:00.000000000',\n",
       "       '2019-01-20T21:00:00.000000000'], dtype='datetime64[ns]')"
      ]
     },
     "execution_count": 31,
     "metadata": {},
     "output_type": "execute_result"
    }
   ],
   "source": [
    "np.sort(pd.to_datetime(test_df['buy_time'], unit='s').unique())"
   ]
  },
  {
   "cell_type": "code",
   "execution_count": 28,
   "metadata": {},
   "outputs": [
    {
     "data": {
      "text/plain": [
       "array(['2018-07-08T21:00:00.000000000', '2018-07-15T21:00:00.000000000',\n",
       "       '2018-07-22T21:00:00.000000000', '2018-07-29T21:00:00.000000000',\n",
       "       '2018-08-05T21:00:00.000000000', '2018-08-12T21:00:00.000000000',\n",
       "       '2018-08-19T21:00:00.000000000', '2018-08-26T21:00:00.000000000',\n",
       "       '2018-09-02T21:00:00.000000000', '2018-09-09T21:00:00.000000000',\n",
       "       '2018-09-16T21:00:00.000000000', '2018-09-23T21:00:00.000000000',\n",
       "       '2018-09-30T21:00:00.000000000', '2018-10-07T21:00:00.000000000',\n",
       "       '2018-10-14T21:00:00.000000000', '2018-10-21T21:00:00.000000000',\n",
       "       '2018-10-28T21:00:00.000000000', '2018-11-04T21:00:00.000000000',\n",
       "       '2018-11-11T21:00:00.000000000', '2018-11-18T21:00:00.000000000',\n",
       "       '2018-11-25T21:00:00.000000000', '2018-12-02T21:00:00.000000000',\n",
       "       '2018-12-09T21:00:00.000000000', '2018-12-16T21:00:00.000000000',\n",
       "       '2018-12-23T21:00:00.000000000', '2018-12-30T21:00:00.000000000',\n",
       "       '2019-01-06T21:00:00.000000000', '2019-01-13T21:00:00.000000000',\n",
       "       '2019-01-20T21:00:00.000000000'], dtype='datetime64[ns]')"
      ]
     },
     "execution_count": 28,
     "metadata": {},
     "output_type": "execute_result"
    }
   ],
   "source": [
    "dd_dt = dtime.map_partitions(pd.to_datetime, unit='s')\n",
    "dd_dt = np.array(dd_dt.unique().compute())\n",
    "np.sort(dd_dt)"
   ]
  },
  {
   "cell_type": "markdown",
   "metadata": {},
   "source": [
    "Как оказалось, агрегация здесь даже недельная, что убирает возможность анализировать поведение пользователей и на выходных/праздничных днях, а также остается мало смысла рассматривать дату как важную фичу за такой короткий промежуток времени.\n",
    "\n",
    "А также стоит заметить, что на `test` датасете имеем дело с неделей в начале года, что очень сильно может влиять на конечные результаты предсказания. Было бы крайне хорошо иметь прошлогодние данные за этот же промежуток.\n",
    "\n",
    "----"
   ]
  },
  {
   "cell_type": "markdown",
   "metadata": {},
   "source": [
    "Оценим полезность наших дат, можно ли строить историю для каждого пользователя и т.д.:"
   ]
  },
  {
   "cell_type": "code",
   "execution_count": 52,
   "metadata": {},
   "outputs": [
    {
     "name": "stdout",
     "output_type": "stream",
     "text": [
      "Wall time: 3min 26s\n"
     ]
    },
    {
     "data": {
      "text/plain": [
       "id\n",
       "1318       2\n",
       "6971       2\n",
       "7637       2\n",
       "9264       2\n",
       "14368      2\n",
       "          ..\n",
       "3410244    2\n",
       "3537081    2\n",
       "3620266    2\n",
       "4313991    2\n",
       "2422554    2\n",
       "Name: id, Length: 119977, dtype: int64"
      ]
     },
     "execution_count": 52,
     "metadata": {},
     "output_type": "execute_result"
    }
   ],
   "source": [
    "%%time\n",
    "id_cnt = dd_df.groupby('id')['id'].count().compute()\n",
    "id_cnt[id_cnt > 1].sort_values()"
   ]
  },
  {
   "cell_type": "markdown",
   "metadata": {},
   "source": [
    "Т.к. для каждого абонента имеются максимум по 2 записи (в крайне малом объеме - около 3% от всех наблюдений), ни о какой историчности и сбору статистик по подключенным услугам у конкретного абонента нельзя говорить."
   ]
  },
  {
   "cell_type": "markdown",
   "metadata": {},
   "source": [
    "В таком случае можно попробовать посмотреть на общую динамику по каждой услуге и оценить ее:"
   ]
  },
  {
   "cell_type": "code",
   "execution_count": 203,
   "metadata": {
    "scrolled": false
   },
   "outputs": [
    {
     "data": {
      "text/html": [
       "<div>\n",
       "<style scoped>\n",
       "    .dataframe tbody tr th:only-of-type {\n",
       "        vertical-align: middle;\n",
       "    }\n",
       "\n",
       "    .dataframe tbody tr th {\n",
       "        vertical-align: top;\n",
       "    }\n",
       "\n",
       "    .dataframe thead th {\n",
       "        text-align: right;\n",
       "    }\n",
       "</style>\n",
       "<table border=\"1\" class=\"dataframe\">\n",
       "  <thead>\n",
       "    <tr style=\"text-align: right;\">\n",
       "      <th></th>\n",
       "      <th>vas_id</th>\n",
       "      <th>buy_time</th>\n",
       "      <th>count</th>\n",
       "      <th>mean</th>\n",
       "    </tr>\n",
       "  </thead>\n",
       "  <tbody>\n",
       "    <tr>\n",
       "      <th>0</th>\n",
       "      <td>1</td>\n",
       "      <td>2018-07-08 21:00:00</td>\n",
       "      <td>4427</td>\n",
       "      <td>0.014909</td>\n",
       "    </tr>\n",
       "    <tr>\n",
       "      <th>1</th>\n",
       "      <td>1</td>\n",
       "      <td>2018-07-15 21:00:00</td>\n",
       "      <td>7935</td>\n",
       "      <td>0.013359</td>\n",
       "    </tr>\n",
       "    <tr>\n",
       "      <th>2</th>\n",
       "      <td>1</td>\n",
       "      <td>2018-07-22 21:00:00</td>\n",
       "      <td>38507</td>\n",
       "      <td>0.012465</td>\n",
       "    </tr>\n",
       "    <tr>\n",
       "      <th>3</th>\n",
       "      <td>1</td>\n",
       "      <td>2018-07-29 21:00:00</td>\n",
       "      <td>6313</td>\n",
       "      <td>0.016316</td>\n",
       "    </tr>\n",
       "    <tr>\n",
       "      <th>4</th>\n",
       "      <td>1</td>\n",
       "      <td>2018-08-05 21:00:00</td>\n",
       "      <td>29643</td>\n",
       "      <td>0.009378</td>\n",
       "    </tr>\n",
       "  </tbody>\n",
       "</table>\n",
       "</div>"
      ],
      "text/plain": [
       "   vas_id            buy_time  count      mean\n",
       "0       1 2018-07-08 21:00:00   4427  0.014909\n",
       "1       1 2018-07-15 21:00:00   7935  0.013359\n",
       "2       1 2018-07-22 21:00:00  38507  0.012465\n",
       "3       1 2018-07-29 21:00:00   6313  0.016316\n",
       "4       1 2018-08-05 21:00:00  29643  0.009378"
      ]
     },
     "execution_count": 203,
     "metadata": {},
     "output_type": "execute_result"
    }
   ],
   "source": [
    "group_df = pd.DataFrame(train_df.groupby(['vas_id', 'buy_time'])['target'].agg(['count', 'mean'])).reset_index()\n",
    "group_df.vas_id = group_df.vas_id.astype('int')\n",
    "\n",
    "timeline = np.sort(group_df.buy_time.dt.date.unique())\n",
    "\n",
    "group_df.head()"
   ]
  },
  {
   "cell_type": "code",
   "execution_count": 193,
   "metadata": {
    "scrolled": false
   },
   "outputs": [
    {
     "data": {
      "image/png": "[encoded data removed]",
      "text/plain": [
       "<Figure size 1080x1080 with 18 Axes>"
      ]
     },
     "metadata": {
      "needs_background": "light"
     },
     "output_type": "display_data"
    }
   ],
   "source": [
    "fig, axes = plt.subplots(3, 3, sharex=True)\n",
    "plt.subplots_adjust(wspace=0.4)\n",
    "fig.set_size_inches(15, 15)\n",
    "fig.autofmt_xdate(rotation=45)\n",
    "axes = axes.flatten()\n",
    "\n",
    "for vas_id, ax in zip(range(1, 10), axes):    \n",
    "    ox = group_df.loc[group_df.vas_id == vas_id, 'buy_time'].dt.date\n",
    "\n",
    "    oy1 = group_df.loc[group_df.vas_id == vas_id, 'count']\n",
    "    oy2 = group_df.loc[group_df.vas_id == vas_id, 'mean']\n",
    "    \n",
    "    ax2 = ax.twinx()\n",
    "    \n",
    "    x_ticks = ox\n",
    "    ax.bar(ox, oy1, color='g', width=3, alpha=0.5, label='Count')\n",
    "    ax2.plot(ox, oy2, 'b-', color='grey', alpha=0.9, label='Prob. of accept')\n",
    "    ax.legend(loc=1)\n",
    "    ax2.legend(loc=2)\n",
    "    ax.set_title(vas_id)\n"
   ]
  },
  {
   "cell_type": "code",
   "execution_count": 218,
   "metadata": {},
   "outputs": [
    {
     "data": {
      "text/plain": [
       "index                       123\n",
       "vas_id                        6\n",
       "buy_time    2018-11-18 21:00:00\n",
       "count                      1560\n",
       "mean                   0.951282\n",
       "Name: 0, dtype: object"
      ]
     },
     "execution_count": 218,
     "metadata": {},
     "output_type": "execute_result"
    }
   ],
   "source": [
    "group_df.sort_values('mean', ascending=False).reset_index().iloc[0]"
   ]
  },
  {
   "cell_type": "markdown",
   "metadata": {},
   "source": [
    "Можно выделить несколько моментов:\n",
    "* с декабря 2018 года активно начались рекламные кампании для услуг 2, 5, 6;\n",
    "* виден всплеск как приглашений к подключению услуг, так и успешность подключения (вплоть до 95%) за неделю с 2018-11-18, что наводит на мысль о некорректных данных, можно будет считать этот период выбросом и дополнительно анализировать его отдельно при наличии дополнительных данных оператора;\n",
    "* практически все услуги подключаются с крайне небольшим процентом, исключение составляются лишь 6, 4 и 9 (сильно позади)"
   ]
  },
  {
   "cell_type": "code",
   "execution_count": 204,
   "metadata": {},
   "outputs": [
    {
     "data": {
      "text/plain": [
       "0.07236912510385943"
      ]
     },
     "execution_count": 204,
     "metadata": {},
     "output_type": "execute_result"
    }
   ],
   "source": [
    "train_df['target'].mean()"
   ]
  },
  {
   "cell_type": "code",
   "execution_count": 107,
   "metadata": {},
   "outputs": [
    {
     "data": {
      "text/html": [
       "<div>\n",
       "<style scoped>\n",
       "    .dataframe tbody tr th:only-of-type {\n",
       "        vertical-align: middle;\n",
       "    }\n",
       "\n",
       "    .dataframe tbody tr th {\n",
       "        vertical-align: top;\n",
       "    }\n",
       "\n",
       "    .dataframe thead th {\n",
       "        text-align: right;\n",
       "    }\n",
       "</style>\n",
       "<table border=\"1\" class=\"dataframe\">\n",
       "  <thead>\n",
       "    <tr style=\"text-align: right;\">\n",
       "      <th></th>\n",
       "      <th>mean</th>\n",
       "      <th>count</th>\n",
       "    </tr>\n",
       "    <tr>\n",
       "      <th>vas_id</th>\n",
       "      <th></th>\n",
       "      <th></th>\n",
       "    </tr>\n",
       "  </thead>\n",
       "  <tbody>\n",
       "    <tr>\n",
       "      <th>1.0</th>\n",
       "      <td>0.018261</td>\n",
       "      <td>310175</td>\n",
       "    </tr>\n",
       "    <tr>\n",
       "      <th>2.0</th>\n",
       "      <td>0.019226</td>\n",
       "      <td>249505</td>\n",
       "    </tr>\n",
       "    <tr>\n",
       "      <th>4.0</th>\n",
       "      <td>0.253801</td>\n",
       "      <td>85756</td>\n",
       "    </tr>\n",
       "    <tr>\n",
       "      <th>5.0</th>\n",
       "      <td>0.017984</td>\n",
       "      <td>94085</td>\n",
       "    </tr>\n",
       "    <tr>\n",
       "      <th>6.0</th>\n",
       "      <td>0.426829</td>\n",
       "      <td>57878</td>\n",
       "    </tr>\n",
       "    <tr>\n",
       "      <th>7.0</th>\n",
       "      <td>0.013802</td>\n",
       "      <td>15432</td>\n",
       "    </tr>\n",
       "    <tr>\n",
       "      <th>8.0</th>\n",
       "      <td>0.025993</td>\n",
       "      <td>13350</td>\n",
       "    </tr>\n",
       "    <tr>\n",
       "      <th>9.0</th>\n",
       "      <td>0.183480</td>\n",
       "      <td>5472</td>\n",
       "    </tr>\n",
       "  </tbody>\n",
       "</table>\n",
       "</div>"
      ],
      "text/plain": [
       "            mean   count\n",
       "vas_id                  \n",
       "1.0     0.018261  310175\n",
       "2.0     0.019226  249505\n",
       "4.0     0.253801   85756\n",
       "5.0     0.017984   94085\n",
       "6.0     0.426829   57878\n",
       "7.0     0.013802   15432\n",
       "8.0     0.025993   13350\n",
       "9.0     0.183480    5472"
      ]
     },
     "execution_count": 107,
     "metadata": {},
     "output_type": "execute_result"
    }
   ],
   "source": [
    "train_df.groupby('vas_id')['target'].agg(['mean', 'count'])"
   ]
  },
  {
   "cell_type": "markdown",
   "metadata": {},
   "source": [
    "Подтвердились предположения о успехе подключений 6, 4 и 9 услуг, причем нумерация услуг скорее всего велась по снижения числа пользователей с ней (если это так, то можно сказать о том, что абонентов с успешно подключенной 4 услугой на тестовом датасете больше, чем с 5 :) )\n",
    "\n",
    "-----"
   ]
  },
  {
   "cell_type": "markdown",
   "metadata": {},
   "source": [
    "### Оптимизация датасета\n",
    "\n",
    "Так как датасет достаточно объемный и текущая рабочая машина не позволяет достаточно быстро работать с ним полностью из оперативной памяти, предлагается убрать из него все лишнее и по возможности затем работать pandas датафреймом:"
   ]
  },
  {
   "cell_type": "markdown",
   "metadata": {},
   "source": [
    "Уберем всех пользователей из `features`, которых нет в `train` и `test`:"
   ]
  },
  {
   "cell_type": "code",
   "execution_count": 59,
   "metadata": {},
   "outputs": [
    {
     "data": {
      "text/html": [
       "<div>\n",
       "<style scoped>\n",
       "    .dataframe tbody tr th:only-of-type {\n",
       "        vertical-align: middle;\n",
       "    }\n",
       "\n",
       "    .dataframe tbody tr th {\n",
       "        vertical-align: top;\n",
       "    }\n",
       "\n",
       "    .dataframe thead th {\n",
       "        text-align: right;\n",
       "    }\n",
       "</style>\n",
       "<table border=\"1\" class=\"dataframe\">\n",
       "  <thead>\n",
       "    <tr style=\"text-align: right;\">\n",
       "      <th></th>\n",
       "      <th>Unnamed: 0</th>\n",
       "      <th>id</th>\n",
       "      <th>buy_time</th>\n",
       "      <th>0</th>\n",
       "      <th>1</th>\n",
       "      <th>2</th>\n",
       "      <th>3</th>\n",
       "      <th>4</th>\n",
       "      <th>5</th>\n",
       "      <th>6</th>\n",
       "      <th>...</th>\n",
       "      <th>243</th>\n",
       "      <th>244</th>\n",
       "      <th>245</th>\n",
       "      <th>246</th>\n",
       "      <th>247</th>\n",
       "      <th>248</th>\n",
       "      <th>249</th>\n",
       "      <th>250</th>\n",
       "      <th>251</th>\n",
       "      <th>252</th>\n",
       "    </tr>\n",
       "  </thead>\n",
       "  <tbody>\n",
       "    <tr>\n",
       "      <th>13</th>\n",
       "      <td>13</td>\n",
       "      <td>2046132</td>\n",
       "      <td>2018-08-19 21:00:00</td>\n",
       "      <td>300.820029</td>\n",
       "      <td>1599.480888</td>\n",
       "      <td>286.879214</td>\n",
       "      <td>1585.013202</td>\n",
       "      <td>281.461754</td>\n",
       "      <td>1563.90821</td>\n",
       "      <td>-16.08618</td>\n",
       "      <td>...</td>\n",
       "      <td>-977.373846</td>\n",
       "      <td>-613.770792</td>\n",
       "      <td>-25.996269</td>\n",
       "      <td>-35.630448</td>\n",
       "      <td>-295.747724</td>\n",
       "      <td>-17.832889</td>\n",
       "      <td>-0.694428</td>\n",
       "      <td>-4.175933</td>\n",
       "      <td>-0.45614</td>\n",
       "      <td>0.0</td>\n",
       "    </tr>\n",
       "    <tr>\n",
       "      <th>16</th>\n",
       "      <td>16</td>\n",
       "      <td>2050810</td>\n",
       "      <td>2018-10-28 21:00:00</td>\n",
       "      <td>-86.209971</td>\n",
       "      <td>91.820888</td>\n",
       "      <td>-84.480786</td>\n",
       "      <td>110.333202</td>\n",
       "      <td>-89.898246</td>\n",
       "      <td>89.22821</td>\n",
       "      <td>-16.08618</td>\n",
       "      <td>...</td>\n",
       "      <td>-977.373846</td>\n",
       "      <td>-613.770792</td>\n",
       "      <td>-23.996269</td>\n",
       "      <td>190.369552</td>\n",
       "      <td>-286.747724</td>\n",
       "      <td>-25.832889</td>\n",
       "      <td>-0.694428</td>\n",
       "      <td>-12.175933</td>\n",
       "      <td>-0.45614</td>\n",
       "      <td>0.0</td>\n",
       "    </tr>\n",
       "    <tr>\n",
       "      <th>19</th>\n",
       "      <td>19</td>\n",
       "      <td>2070757</td>\n",
       "      <td>2018-10-28 21:00:00</td>\n",
       "      <td>-96.799971</td>\n",
       "      <td>-408.179112</td>\n",
       "      <td>-110.740786</td>\n",
       "      <td>-460.786798</td>\n",
       "      <td>-114.038246</td>\n",
       "      <td>-479.77179</td>\n",
       "      <td>-16.08618</td>\n",
       "      <td>...</td>\n",
       "      <td>-925.373846</td>\n",
       "      <td>-561.770792</td>\n",
       "      <td>-21.996269</td>\n",
       "      <td>-37.630448</td>\n",
       "      <td>-151.747724</td>\n",
       "      <td>-24.832889</td>\n",
       "      <td>0.305572</td>\n",
       "      <td>-12.175933</td>\n",
       "      <td>-0.45614</td>\n",
       "      <td>1.0</td>\n",
       "    </tr>\n",
       "    <tr>\n",
       "      <th>20</th>\n",
       "      <td>20</td>\n",
       "      <td>2071522</td>\n",
       "      <td>2018-12-16 21:00:00</td>\n",
       "      <td>-94.939971</td>\n",
       "      <td>-363.699112</td>\n",
       "      <td>-108.880786</td>\n",
       "      <td>-411.226798</td>\n",
       "      <td>-114.298246</td>\n",
       "      <td>-432.33179</td>\n",
       "      <td>-16.08618</td>\n",
       "      <td>...</td>\n",
       "      <td>-977.373846</td>\n",
       "      <td>-613.770792</td>\n",
       "      <td>-25.996269</td>\n",
       "      <td>-37.630448</td>\n",
       "      <td>-306.747724</td>\n",
       "      <td>-25.832889</td>\n",
       "      <td>-0.694428</td>\n",
       "      <td>-12.175933</td>\n",
       "      <td>-0.45614</td>\n",
       "      <td>0.0</td>\n",
       "    </tr>\n",
       "    <tr>\n",
       "      <th>22</th>\n",
       "      <td>22</td>\n",
       "      <td>2075318</td>\n",
       "      <td>2018-08-05 21:00:00</td>\n",
       "      <td>-75.639971</td>\n",
       "      <td>669.690888</td>\n",
       "      <td>-89.580786</td>\n",
       "      <td>732.343202</td>\n",
       "      <td>-94.998246</td>\n",
       "      <td>736.65821</td>\n",
       "      <td>-16.08618</td>\n",
       "      <td>...</td>\n",
       "      <td>-501.373846</td>\n",
       "      <td>-242.770792</td>\n",
       "      <td>-25.996269</td>\n",
       "      <td>-37.630448</td>\n",
       "      <td>-167.747724</td>\n",
       "      <td>-14.832889</td>\n",
       "      <td>2.305572</td>\n",
       "      <td>-4.175933</td>\n",
       "      <td>-0.45614</td>\n",
       "      <td>0.0</td>\n",
       "    </tr>\n",
       "  </tbody>\n",
       "</table>\n",
       "<p>5 rows × 256 columns</p>\n",
       "</div>"
      ],
      "text/plain": [
       "    Unnamed: 0       id            buy_time           0            1  \\\n",
       "13          13  2046132 2018-08-19 21:00:00  300.820029  1599.480888   \n",
       "16          16  2050810 2018-10-28 21:00:00  -86.209971    91.820888   \n",
       "19          19  2070757 2018-10-28 21:00:00  -96.799971  -408.179112   \n",
       "20          20  2071522 2018-12-16 21:00:00  -94.939971  -363.699112   \n",
       "22          22  2075318 2018-08-05 21:00:00  -75.639971   669.690888   \n",
       "\n",
       "             2            3           4           5         6  ...  \\\n",
       "13  286.879214  1585.013202  281.461754  1563.90821 -16.08618  ...   \n",
       "16  -84.480786   110.333202  -89.898246    89.22821 -16.08618  ...   \n",
       "19 -110.740786  -460.786798 -114.038246  -479.77179 -16.08618  ...   \n",
       "20 -108.880786  -411.226798 -114.298246  -432.33179 -16.08618  ...   \n",
       "22  -89.580786   732.343202  -94.998246   736.65821 -16.08618  ...   \n",
       "\n",
       "           243         244        245         246         247        248  \\\n",
       "13 -977.373846 -613.770792 -25.996269  -35.630448 -295.747724 -17.832889   \n",
       "16 -977.373846 -613.770792 -23.996269  190.369552 -286.747724 -25.832889   \n",
       "19 -925.373846 -561.770792 -21.996269  -37.630448 -151.747724 -24.832889   \n",
       "20 -977.373846 -613.770792 -25.996269  -37.630448 -306.747724 -25.832889   \n",
       "22 -501.373846 -242.770792 -25.996269  -37.630448 -167.747724 -14.832889   \n",
       "\n",
       "         249        250      251  252  \n",
       "13 -0.694428  -4.175933 -0.45614  0.0  \n",
       "16 -0.694428 -12.175933 -0.45614  0.0  \n",
       "19  0.305572 -12.175933 -0.45614  1.0  \n",
       "20 -0.694428 -12.175933 -0.45614  0.0  \n",
       "22  2.305572  -4.175933 -0.45614  0.0  \n",
       "\n",
       "[5 rows x 256 columns]"
      ]
     },
     "execution_count": 59,
     "metadata": {},
     "output_type": "execute_result"
    }
   ],
   "source": [
    "ids = set(list(train_df.id.unique()) + list(test_df.id.unique()))\n",
    "dd_df = dd_df[dd_df.id.isin(ids)]\n",
    "dd_df.head()"
   ]
  },
  {
   "cell_type": "markdown",
   "metadata": {},
   "source": [
    "Далее уберем колонки, не несущие информации, а также те признаки, которые являются очень сильно коррелирующими между друг другом:"
   ]
  },
  {
   "cell_type": "code",
   "execution_count": 21,
   "metadata": {},
   "outputs": [],
   "source": [
    "idx_column = 'Unnamed: 0'\n",
    "\n",
    "train_df.drop(columns=idx_column, inplace=True)\n",
    "test_df.drop(columns=idx_column, inplace=True)\n",
    "dd_df.drop(columns=idx_column, inplace=True).compute()"
   ]
  },
  {
   "cell_type": "code",
   "execution_count": 65,
   "metadata": {},
   "outputs": [
    {
     "name": "stdout",
     "output_type": "stream",
     "text": [
      "Wall time: 23min 18s\n"
     ]
    }
   ],
   "source": [
    "%%time\n",
    "\n",
    "corr_all = dd_df.corr().compute()\n",
    "corr_all.loc[:,:] = np.tril(corr_all, k=-1) "
   ]
  },
  {
   "cell_type": "code",
   "execution_count": 81,
   "metadata": {},
   "outputs": [],
   "source": [
    "threshold = 0.90\n",
    "\n",
    "already_in = set()\n",
    "result = []\n",
    "for col in corr_all:\n",
    "    perfect_corr = corr_all[col][np.abs(corr_all[col]) >= threshold ].index.tolist()\n",
    "    if perfect_corr and col not in already_in:\n",
    "        already_in.update(set(perfect_corr))\n",
    "        perfect_corr.append(col)\n",
    "        result.append(perfect_corr)"
   ]
  },
  {
   "cell_type": "code",
   "execution_count": 82,
   "metadata": {},
   "outputs": [
    {
     "data": {
      "text/plain": [
       "[['2', '4', '0'],\n",
       " ['3', '1'],\n",
       " ['8', '11', '78', '79', '6'],\n",
       " ['71', '10'],\n",
       " ['72', '12'],\n",
       " ['14', '13'],\n",
       " ['35', '17'],\n",
       " ['104', '19'],\n",
       " ['24', '23'],\n",
       " ['33', '32'],\n",
       " ['116', '38'],\n",
       " ['112', '39'],\n",
       " ['113', '40'],\n",
       " ['123', '41'],\n",
       " ['124', '42'],\n",
       " ['45', '186', '43'],\n",
       " ['170', '44'],\n",
       " ['184', '46'],\n",
       " ['51', '151', '50'],\n",
       " ['147', '162', '54'],\n",
       " ['104', '76'],\n",
       " ['88', '83'],\n",
       " ['92', '91'],\n",
       " ['142', '101'],\n",
       " ['137', '135'],\n",
       " ['138', '136'],\n",
       " ['180', '179'],\n",
       " ['217', '209'],\n",
       " ['220', '216'],\n",
       " ['234', '230']]"
      ]
     },
     "execution_count": 82,
     "metadata": {},
     "output_type": "execute_result"
    }
   ],
   "source": [
    "result"
   ]
  },
  {
   "cell_type": "markdown",
   "metadata": {},
   "source": [
    "*P.S. Здесь в каждом элементе списка отображен список названий признаков, имеющих корреляцию выше 0.9 (гибкий параметр)*"
   ]
  },
  {
   "cell_type": "code",
   "execution_count": 90,
   "metadata": {},
   "outputs": [],
   "source": [
    "to_delete = ['Unnamed: 0']\n",
    "\n",
    "for clmns in result:\n",
    "    to_delete += clmns[1:]"
   ]
  },
  {
   "cell_type": "markdown",
   "metadata": {},
   "source": [
    "Также удалим все признаки, имеющие константные значения в датасете:"
   ]
  },
  {
   "cell_type": "code",
   "execution_count": 112,
   "metadata": {},
   "outputs": [
    {
     "data": {
      "text/plain": [
       "['75', '81', '85', '139', '203']"
      ]
     },
     "execution_count": 112,
     "metadata": {},
     "output_type": "execute_result"
    }
   ],
   "source": [
    "feats_var = dd_df.var().compute()\n",
    "feats_wo_info = list(feats_var[feats_var == 0].index)\n",
    "feats_wo_info"
   ]
  },
  {
   "cell_type": "code",
   "execution_count": 114,
   "metadata": {},
   "outputs": [],
   "source": [
    "dd_df.drop(columns=to_delete + feats_wo_info)"
   ]
  },
  {
   "cell_type": "markdown",
   "metadata": {},
   "source": [
    "И далее считаем полученные данные как стаданртный `DataFrame` `pandas` для оптимизации быстродействия"
   ]
  },
  {
   "cell_type": "code",
   "execution_count": 122,
   "metadata": {},
   "outputs": [],
   "source": [
    "dd_df.to_csv(FEATS_PATH / 'mod_features.csv', single_file=True)\n",
    "dd_df = pd.read_csv(FEATS_PATH / 'mod_features.csv')"
   ]
  },
  {
   "cell_type": "markdown",
   "metadata": {},
   "source": [
    "Объединим полученные датасет с исходными данными:"
   ]
  },
  {
   "cell_type": "code",
   "execution_count": 3,
   "metadata": {},
   "outputs": [
    {
     "data": {
      "text/html": [
       "<div>\n",
       "<style scoped>\n",
       "    .dataframe tbody tr th:only-of-type {\n",
       "        vertical-align: middle;\n",
       "    }\n",
       "\n",
       "    .dataframe tbody tr th {\n",
       "        vertical-align: top;\n",
       "    }\n",
       "\n",
       "    .dataframe thead th {\n",
       "        text-align: right;\n",
       "    }\n",
       "</style>\n",
       "<table border=\"1\" class=\"dataframe\">\n",
       "  <thead>\n",
       "    <tr style=\"text-align: right;\">\n",
       "      <th></th>\n",
       "      <th>id</th>\n",
       "      <th>vas_id</th>\n",
       "      <th>buy_time</th>\n",
       "      <th>target</th>\n",
       "      <th>2</th>\n",
       "      <th>3</th>\n",
       "      <th>5</th>\n",
       "      <th>7</th>\n",
       "      <th>8</th>\n",
       "      <th>9</th>\n",
       "      <th>...</th>\n",
       "      <th>243</th>\n",
       "      <th>244</th>\n",
       "      <th>245</th>\n",
       "      <th>246</th>\n",
       "      <th>247</th>\n",
       "      <th>248</th>\n",
       "      <th>249</th>\n",
       "      <th>250</th>\n",
       "      <th>251</th>\n",
       "      <th>252</th>\n",
       "    </tr>\n",
       "  </thead>\n",
       "  <tbody>\n",
       "    <tr>\n",
       "      <th>733315</th>\n",
       "      <td>2</td>\n",
       "      <td>2.0</td>\n",
       "      <td>2018-12-23 21:00:00</td>\n",
       "      <td>0.0</td>\n",
       "      <td>-110.740786</td>\n",
       "      <td>305.723202</td>\n",
       "      <td>284.61821</td>\n",
       "      <td>-65.076097</td>\n",
       "      <td>-6.78366</td>\n",
       "      <td>-30.006538</td>\n",
       "      <td>...</td>\n",
       "      <td>2300.626154</td>\n",
       "      <td>1492.229208</td>\n",
       "      <td>-21.996269</td>\n",
       "      <td>-35.630448</td>\n",
       "      <td>368.252276</td>\n",
       "      <td>11.167111</td>\n",
       "      <td>7.305572</td>\n",
       "      <td>-12.175933</td>\n",
       "      <td>-0.45614</td>\n",
       "      <td>0.0</td>\n",
       "    </tr>\n",
       "    <tr>\n",
       "      <th>178087</th>\n",
       "      <td>4</td>\n",
       "      <td>1.0</td>\n",
       "      <td>2018-08-05 21:00:00</td>\n",
       "      <td>0.0</td>\n",
       "      <td>NaN</td>\n",
       "      <td>NaN</td>\n",
       "      <td>NaN</td>\n",
       "      <td>NaN</td>\n",
       "      <td>NaN</td>\n",
       "      <td>NaN</td>\n",
       "      <td>...</td>\n",
       "      <td>NaN</td>\n",
       "      <td>NaN</td>\n",
       "      <td>NaN</td>\n",
       "      <td>NaN</td>\n",
       "      <td>NaN</td>\n",
       "      <td>NaN</td>\n",
       "      <td>NaN</td>\n",
       "      <td>NaN</td>\n",
       "      <td>NaN</td>\n",
       "      <td>NaN</td>\n",
       "    </tr>\n",
       "    <tr>\n",
       "      <th>183447</th>\n",
       "      <td>15</td>\n",
       "      <td>1.0</td>\n",
       "      <td>2018-08-12 21:00:00</td>\n",
       "      <td>0.0</td>\n",
       "      <td>249.409214</td>\n",
       "      <td>140.873202</td>\n",
       "      <td>119.76821</td>\n",
       "      <td>317.953903</td>\n",
       "      <td>-6.78366</td>\n",
       "      <td>-30.006538</td>\n",
       "      <td>...</td>\n",
       "      <td>-381.373846</td>\n",
       "      <td>-613.770792</td>\n",
       "      <td>-24.996269</td>\n",
       "      <td>-31.630448</td>\n",
       "      <td>-212.747724</td>\n",
       "      <td>108.167111</td>\n",
       "      <td>-0.694428</td>\n",
       "      <td>107.824067</td>\n",
       "      <td>13.54386</td>\n",
       "      <td>1.0</td>\n",
       "    </tr>\n",
       "    <tr>\n",
       "      <th>500241</th>\n",
       "      <td>16</td>\n",
       "      <td>2.0</td>\n",
       "      <td>2018-10-28 21:00:00</td>\n",
       "      <td>0.0</td>\n",
       "      <td>NaN</td>\n",
       "      <td>NaN</td>\n",
       "      <td>NaN</td>\n",
       "      <td>NaN</td>\n",
       "      <td>NaN</td>\n",
       "      <td>NaN</td>\n",
       "      <td>...</td>\n",
       "      <td>NaN</td>\n",
       "      <td>NaN</td>\n",
       "      <td>NaN</td>\n",
       "      <td>NaN</td>\n",
       "      <td>NaN</td>\n",
       "      <td>NaN</td>\n",
       "      <td>NaN</td>\n",
       "      <td>NaN</td>\n",
       "      <td>NaN</td>\n",
       "      <td>NaN</td>\n",
       "    </tr>\n",
       "    <tr>\n",
       "      <th>176943</th>\n",
       "      <td>29</td>\n",
       "      <td>1.0</td>\n",
       "      <td>2018-08-05 21:00:00</td>\n",
       "      <td>0.0</td>\n",
       "      <td>-36.590786</td>\n",
       "      <td>-248.926798</td>\n",
       "      <td>-270.03179</td>\n",
       "      <td>-65.076097</td>\n",
       "      <td>-6.78366</td>\n",
       "      <td>-30.006538</td>\n",
       "      <td>...</td>\n",
       "      <td>-847.373846</td>\n",
       "      <td>-509.770792</td>\n",
       "      <td>-25.996269</td>\n",
       "      <td>-37.630448</td>\n",
       "      <td>-233.747724</td>\n",
       "      <td>-10.832889</td>\n",
       "      <td>-0.694428</td>\n",
       "      <td>2.824067</td>\n",
       "      <td>-0.45614</td>\n",
       "      <td>0.0</td>\n",
       "    </tr>\n",
       "    <tr>\n",
       "      <th>...</th>\n",
       "      <td>...</td>\n",
       "      <td>...</td>\n",
       "      <td>...</td>\n",
       "      <td>...</td>\n",
       "      <td>...</td>\n",
       "      <td>...</td>\n",
       "      <td>...</td>\n",
       "      <td>...</td>\n",
       "      <td>...</td>\n",
       "      <td>...</td>\n",
       "      <td>...</td>\n",
       "      <td>...</td>\n",
       "      <td>...</td>\n",
       "      <td>...</td>\n",
       "      <td>...</td>\n",
       "      <td>...</td>\n",
       "      <td>...</td>\n",
       "      <td>...</td>\n",
       "      <td>...</td>\n",
       "      <td>...</td>\n",
       "      <td>...</td>\n",
       "    </tr>\n",
       "    <tr>\n",
       "      <th>793142</th>\n",
       "      <td>4362634</td>\n",
       "      <td>1.0</td>\n",
       "      <td>2018-12-30 21:00:00</td>\n",
       "      <td>0.0</td>\n",
       "      <td>-110.740786</td>\n",
       "      <td>-130.286798</td>\n",
       "      <td>-151.39179</td>\n",
       "      <td>-65.076097</td>\n",
       "      <td>-6.78366</td>\n",
       "      <td>-30.006538</td>\n",
       "      <td>...</td>\n",
       "      <td>-26.373846</td>\n",
       "      <td>-613.770792</td>\n",
       "      <td>118.003731</td>\n",
       "      <td>98.369552</td>\n",
       "      <td>-219.747724</td>\n",
       "      <td>151.167111</td>\n",
       "      <td>-0.694428</td>\n",
       "      <td>-12.175933</td>\n",
       "      <td>-0.45614</td>\n",
       "      <td>0.0</td>\n",
       "    </tr>\n",
       "    <tr>\n",
       "      <th>791222</th>\n",
       "      <td>4362640</td>\n",
       "      <td>2.0</td>\n",
       "      <td>2018-12-30 21:00:00</td>\n",
       "      <td>0.0</td>\n",
       "      <td>-105.190786</td>\n",
       "      <td>-107.776798</td>\n",
       "      <td>-128.88179</td>\n",
       "      <td>-65.076097</td>\n",
       "      <td>-6.78366</td>\n",
       "      <td>-30.006538</td>\n",
       "      <td>...</td>\n",
       "      <td>-974.373846</td>\n",
       "      <td>-610.770792</td>\n",
       "      <td>-25.996269</td>\n",
       "      <td>-37.630448</td>\n",
       "      <td>-306.747724</td>\n",
       "      <td>-25.832889</td>\n",
       "      <td>-0.694428</td>\n",
       "      <td>-12.175933</td>\n",
       "      <td>-0.45614</td>\n",
       "      <td>1.0</td>\n",
       "    </tr>\n",
       "    <tr>\n",
       "      <th>791374</th>\n",
       "      <td>4362647</td>\n",
       "      <td>6.0</td>\n",
       "      <td>2018-12-30 21:00:00</td>\n",
       "      <td>0.0</td>\n",
       "      <td>363.839214</td>\n",
       "      <td>284.973202</td>\n",
       "      <td>263.86821</td>\n",
       "      <td>-65.076097</td>\n",
       "      <td>-6.78366</td>\n",
       "      <td>-30.006538</td>\n",
       "      <td>...</td>\n",
       "      <td>1351.626154</td>\n",
       "      <td>745.229208</td>\n",
       "      <td>-25.996269</td>\n",
       "      <td>-28.630448</td>\n",
       "      <td>26.252276</td>\n",
       "      <td>34.167111</td>\n",
       "      <td>-0.694428</td>\n",
       "      <td>47.824067</td>\n",
       "      <td>-0.45614</td>\n",
       "      <td>0.0</td>\n",
       "    </tr>\n",
       "    <tr>\n",
       "      <th>741257</th>\n",
       "      <td>4362684</td>\n",
       "      <td>5.0</td>\n",
       "      <td>2018-12-23 21:00:00</td>\n",
       "      <td>0.0</td>\n",
       "      <td>-27.720786</td>\n",
       "      <td>34.053202</td>\n",
       "      <td>46.84821</td>\n",
       "      <td>-65.076097</td>\n",
       "      <td>-6.78366</td>\n",
       "      <td>-30.006538</td>\n",
       "      <td>...</td>\n",
       "      <td>-598.373846</td>\n",
       "      <td>-283.770792</td>\n",
       "      <td>-22.996269</td>\n",
       "      <td>-34.630448</td>\n",
       "      <td>-208.747724</td>\n",
       "      <td>-10.832889</td>\n",
       "      <td>-0.694428</td>\n",
       "      <td>2.824067</td>\n",
       "      <td>-0.45614</td>\n",
       "      <td>1.0</td>\n",
       "    </tr>\n",
       "    <tr>\n",
       "      <th>792575</th>\n",
       "      <td>4362694</td>\n",
       "      <td>2.0</td>\n",
       "      <td>2018-12-30 21:00:00</td>\n",
       "      <td>0.0</td>\n",
       "      <td>-39.550786</td>\n",
       "      <td>-108.276798</td>\n",
       "      <td>-129.38179</td>\n",
       "      <td>-65.076097</td>\n",
       "      <td>-6.78366</td>\n",
       "      <td>-30.006538</td>\n",
       "      <td>...</td>\n",
       "      <td>12.626154</td>\n",
       "      <td>-613.770792</td>\n",
       "      <td>-23.996269</td>\n",
       "      <td>-37.630448</td>\n",
       "      <td>-238.747724</td>\n",
       "      <td>-25.832889</td>\n",
       "      <td>-0.694428</td>\n",
       "      <td>-12.175933</td>\n",
       "      <td>-0.45614</td>\n",
       "      <td>0.0</td>\n",
       "    </tr>\n",
       "  </tbody>\n",
       "</table>\n",
       "<p>831653 rows × 220 columns</p>\n",
       "</div>"
      ],
      "text/plain": [
       "             id  vas_id            buy_time  target           2           3  \\\n",
       "733315        2     2.0 2018-12-23 21:00:00     0.0 -110.740786  305.723202   \n",
       "178087        4     1.0 2018-08-05 21:00:00     0.0         NaN         NaN   \n",
       "183447       15     1.0 2018-08-12 21:00:00     0.0  249.409214  140.873202   \n",
       "500241       16     2.0 2018-10-28 21:00:00     0.0         NaN         NaN   \n",
       "176943       29     1.0 2018-08-05 21:00:00     0.0  -36.590786 -248.926798   \n",
       "...         ...     ...                 ...     ...         ...         ...   \n",
       "793142  4362634     1.0 2018-12-30 21:00:00     0.0 -110.740786 -130.286798   \n",
       "791222  4362640     2.0 2018-12-30 21:00:00     0.0 -105.190786 -107.776798   \n",
       "791374  4362647     6.0 2018-12-30 21:00:00     0.0  363.839214  284.973202   \n",
       "741257  4362684     5.0 2018-12-23 21:00:00     0.0  -27.720786   34.053202   \n",
       "792575  4362694     2.0 2018-12-30 21:00:00     0.0  -39.550786 -108.276798   \n",
       "\n",
       "                5           7        8          9  ...          243  \\\n",
       "733315  284.61821  -65.076097 -6.78366 -30.006538  ...  2300.626154   \n",
       "178087        NaN         NaN      NaN        NaN  ...          NaN   \n",
       "183447  119.76821  317.953903 -6.78366 -30.006538  ...  -381.373846   \n",
       "500241        NaN         NaN      NaN        NaN  ...          NaN   \n",
       "176943 -270.03179  -65.076097 -6.78366 -30.006538  ...  -847.373846   \n",
       "...           ...         ...      ...        ...  ...          ...   \n",
       "793142 -151.39179  -65.076097 -6.78366 -30.006538  ...   -26.373846   \n",
       "791222 -128.88179  -65.076097 -6.78366 -30.006538  ...  -974.373846   \n",
       "791374  263.86821  -65.076097 -6.78366 -30.006538  ...  1351.626154   \n",
       "741257   46.84821  -65.076097 -6.78366 -30.006538  ...  -598.373846   \n",
       "792575 -129.38179  -65.076097 -6.78366 -30.006538  ...    12.626154   \n",
       "\n",
       "                244         245        246         247         248       249  \\\n",
       "733315  1492.229208  -21.996269 -35.630448  368.252276   11.167111  7.305572   \n",
       "178087          NaN         NaN        NaN         NaN         NaN       NaN   \n",
       "183447  -613.770792  -24.996269 -31.630448 -212.747724  108.167111 -0.694428   \n",
       "500241          NaN         NaN        NaN         NaN         NaN       NaN   \n",
       "176943  -509.770792  -25.996269 -37.630448 -233.747724  -10.832889 -0.694428   \n",
       "...             ...         ...        ...         ...         ...       ...   \n",
       "793142  -613.770792  118.003731  98.369552 -219.747724  151.167111 -0.694428   \n",
       "791222  -610.770792  -25.996269 -37.630448 -306.747724  -25.832889 -0.694428   \n",
       "791374   745.229208  -25.996269 -28.630448   26.252276   34.167111 -0.694428   \n",
       "741257  -283.770792  -22.996269 -34.630448 -208.747724  -10.832889 -0.694428   \n",
       "792575  -613.770792  -23.996269 -37.630448 -238.747724  -25.832889 -0.694428   \n",
       "\n",
       "               250       251  252  \n",
       "733315  -12.175933  -0.45614  0.0  \n",
       "178087         NaN       NaN  NaN  \n",
       "183447  107.824067  13.54386  1.0  \n",
       "500241         NaN       NaN  NaN  \n",
       "176943    2.824067  -0.45614  0.0  \n",
       "...            ...       ...  ...  \n",
       "793142  -12.175933  -0.45614  0.0  \n",
       "791222  -12.175933  -0.45614  1.0  \n",
       "791374   47.824067  -0.45614  0.0  \n",
       "741257    2.824067  -0.45614  1.0  \n",
       "792575  -12.175933  -0.45614  0.0  \n",
       "\n",
       "[831653 rows x 220 columns]"
      ]
     },
     "execution_count": 3,
     "metadata": {},
     "output_type": "execute_result"
    }
   ],
   "source": [
    "max_delta = train_df.buy_time.max() - dd_df.buy_time.min()\n",
    "\n",
    "merged_train_df = pd.merge_asof(train_df.sort_values('buy_time'),\n",
    "                                  dd_df.sort_values('buy_time'),\n",
    "                                  by='id',\n",
    "                                  on='buy_time',\n",
    "                                  tolerance=max_delta,\n",
    "                                  direction='backward'\n",
    "                                 ).sort_values('id')\n",
    "merged_train_df"
   ]
  },
  {
   "cell_type": "code",
   "execution_count": 4,
   "metadata": {},
   "outputs": [
    {
     "data": {
      "text/plain": [
       "(422929, 0.5085402205006174)"
      ]
     },
     "execution_count": 4,
     "metadata": {},
     "output_type": "execute_result"
    }
   ],
   "source": [
    "null_cnt = merged_train_df.isnull().sum().max()\n",
    "null_cnt, null_cnt / merged_train_df.shape[0]"
   ]
  },
  {
   "cell_type": "markdown",
   "metadata": {},
   "source": [
    "Как видно, почти половина пользователей не имеют признаков, а это может значить, что набор данных `features` не снимался в те периоды времени, в которые происходило изменение отсутствующей части пользователей, то есть или нужны более давние выгрузки, или необходимо изменить принцип сбора данных в `features` - а именно для недостающих данных снимать эти же признаки с текущего снимка базы данных (HLR, HSS, ...).\n",
    "\n",
    "Так как часть выборки без данных достаточно весомая, то заменять их на средние, медианы и т.д. не вижу смысла. В данном случае лучше опираться на статистические показатели подключения пользователей, в этом случае у нас будет самый реальный усредненный процент успешного подключения.\n",
    "\n",
    "------"
   ]
  },
  {
   "cell_type": "markdown",
   "metadata": {},
   "source": [
    "Проверим долю отсутствующих значений в зависимости от даты:"
   ]
  },
  {
   "cell_type": "code",
   "execution_count": 5,
   "metadata": {},
   "outputs": [],
   "source": [
    "gr_null_by_week_merged_train_df = merged_train_df[['buy_time']].copy()\n",
    "gr_null_by_week_merged_train_df['isna'] = merged_train_df.isna().any(axis=1)\n",
    "gr_null_by_week_merged_train_df = gr_null_by_week_merged_train_df.groupby('buy_time').mean('isna')"
   ]
  },
  {
   "cell_type": "code",
   "execution_count": 6,
   "metadata": {
    "scrolled": true
   },
   "outputs": [
    {
     "data": {
      "image/png": "[encoded data removed]",
      "text/plain": [
       "<Figure size 720x360 with 1 Axes>"
      ]
     },
     "metadata": {
      "needs_background": "light"
     },
     "output_type": "display_data"
    }
   ],
   "source": [
    "gr_null_by_week_merged_train_df.plot(color='g', figsize=(10, 5))\n",
    "plt.grid(alpha=0.3)\n",
    "plt.title('Процент отсутствия данных признаков')\n",
    "plt.xlabel('Дата')\n",
    "plt.ylabel('%')\n",
    "plt.show()"
   ]
  },
  {
   "cell_type": "markdown",
   "metadata": {},
   "source": [
    "Что здесь можно увидеть:\n",
    "* с течением времени, начиная от 2018.07, растет процент пользователей, данные которых присутствуют в `features`, что выглядит полностью логично, т.к. имеющийся у нас набор данных в `features` фиксированный и присутствует с определенного числа, а вероятность абонента поменять профиль/быть зарегистрированным с ростом времени тоже растет, отсюда и повышается вероятность заполнения датасета с признаками; \n",
    "* видно нетипичное поведение полноты признаков с 2018.12. Сначала новых записей на протяжении пары недель было достаточно мало, но потом они начали появляться еще более активно, чем ранее. Возможно связано с тем, что был введен какой-либо новый тариф/проведена маркетинговая кампания/изменены предпочтения пользователей в связи с приближающимися праздниками. Для более точного ответа следует анализировать данные других операторов, данные год-к-году, а также смотреть историю корректировок акций и предложений компании для клиентов.\n",
    "\n",
    "--------\n",
    "\n",
    "Но сейчас данный график больше интересен тем, что научиться корректно использовать признаки на старых данных крайне сложно, поэтому отметку разделения на `train`/`test`, веротяно, следует сместить к сторону меньшего числа наблюдений на `test`, чем планировалось изначально (пару недель вместо месяца)."
   ]
  },
  {
   "cell_type": "markdown",
   "metadata": {},
   "source": [
    "### Построение модели"
   ]
  },
  {
   "cell_type": "markdown",
   "metadata": {},
   "source": [
    "Т.к. обучающий сет достаточно большой, можно разбить его на вализационную часть и на обучающую, а также обновить вероятноти подключения:"
   ]
  },
  {
   "cell_type": "code",
   "execution_count": 9,
   "metadata": {},
   "outputs": [],
   "source": [
    "ref_date = '2018-12-23'\n",
    "f_test_df = merged_train_df.loc[merged_train_df.buy_time > dt.strptime(ref_date, '%Y-%m-%d')].copy()\n",
    "f_train_df = merged_train_df.loc[~(merged_train_df.buy_time > dt.strptime(ref_date, '%Y-%m-%d')) &\\\n",
    "                          (merged_train_df.buy_time != dt.strptime('2018-11-18 21', '%Y-%m-%d %H'))].copy()"
   ]
  },
  {
   "cell_type": "code",
   "execution_count": 8,
   "metadata": {},
   "outputs": [
    {
     "data": {
      "text/html": [
       "<div>\n",
       "<style scoped>\n",
       "    .dataframe tbody tr th:only-of-type {\n",
       "        vertical-align: middle;\n",
       "    }\n",
       "\n",
       "    .dataframe tbody tr th {\n",
       "        vertical-align: top;\n",
       "    }\n",
       "\n",
       "    .dataframe thead th {\n",
       "        text-align: right;\n",
       "    }\n",
       "</style>\n",
       "<table border=\"1\" class=\"dataframe\">\n",
       "  <thead>\n",
       "    <tr style=\"text-align: right;\">\n",
       "      <th></th>\n",
       "      <th>vas_id</th>\n",
       "      <th>mean</th>\n",
       "      <th>count</th>\n",
       "    </tr>\n",
       "  </thead>\n",
       "  <tbody>\n",
       "    <tr>\n",
       "      <th>0</th>\n",
       "      <td>1</td>\n",
       "      <td>0.009858</td>\n",
       "      <td>288100</td>\n",
       "    </tr>\n",
       "    <tr>\n",
       "      <th>1</th>\n",
       "      <td>2</td>\n",
       "      <td>0.009211</td>\n",
       "      <td>204531</td>\n",
       "    </tr>\n",
       "    <tr>\n",
       "      <th>2</th>\n",
       "      <td>4</td>\n",
       "      <td>0.199510</td>\n",
       "      <td>75084</td>\n",
       "    </tr>\n",
       "    <tr>\n",
       "      <th>3</th>\n",
       "      <td>5</td>\n",
       "      <td>0.006720</td>\n",
       "      <td>71721</td>\n",
       "    </tr>\n",
       "    <tr>\n",
       "      <th>4</th>\n",
       "      <td>6</td>\n",
       "      <td>0.428643</td>\n",
       "      <td>39891</td>\n",
       "    </tr>\n",
       "    <tr>\n",
       "      <th>5</th>\n",
       "      <td>7</td>\n",
       "      <td>0.003418</td>\n",
       "      <td>13749</td>\n",
       "    </tr>\n",
       "    <tr>\n",
       "      <th>6</th>\n",
       "      <td>8</td>\n",
       "      <td>0.002584</td>\n",
       "      <td>11998</td>\n",
       "    </tr>\n",
       "    <tr>\n",
       "      <th>7</th>\n",
       "      <td>9</td>\n",
       "      <td>0.032008</td>\n",
       "      <td>3874</td>\n",
       "    </tr>\n",
       "  </tbody>\n",
       "</table>\n",
       "</div>"
      ],
      "text/plain": [
       "   vas_id      mean   count\n",
       "0       1  0.009858  288100\n",
       "1       2  0.009211  204531\n",
       "2       4  0.199510   75084\n",
       "3       5  0.006720   71721\n",
       "4       6  0.428643   39891\n",
       "5       7  0.003418   13749\n",
       "6       8  0.002584   11998\n",
       "7       9  0.032008    3874"
      ]
     },
     "execution_count": 8,
     "metadata": {},
     "output_type": "execute_result"
    }
   ],
   "source": [
    "stat_vas = f_train_df.groupby('vas_id')['target'].agg(['mean', 'count']).reset_index()[['vas_id', 'mean', 'count']]\n",
    "stat_vas.vas_id = stat_vas.vas_id.astype('int')\n",
    "stat_vas"
   ]
  },
  {
   "cell_type": "markdown",
   "metadata": {},
   "source": [
    "При учитывании спорного периода в неделю с 2018-11-25 значения получаются сильно разные по сравнению с тем, что имели ранее. Поэтому можно изменить полученные значения для 2, 5 и 6 услуг (где начался рост предложений в конце 2018 года), если бизнес будет не против этого, так как скорее на эти услуги сейчас направлен вектор развития и важно охватить как можно большую аудиторию."
   ]
  },
  {
   "cell_type": "code",
   "execution_count": 9,
   "metadata": {},
   "outputs": [
    {
     "data": {
      "text/html": [
       "<div>\n",
       "<style scoped>\n",
       "    .dataframe tbody tr th:only-of-type {\n",
       "        vertical-align: middle;\n",
       "    }\n",
       "\n",
       "    .dataframe tbody tr th {\n",
       "        vertical-align: top;\n",
       "    }\n",
       "\n",
       "    .dataframe thead th {\n",
       "        text-align: right;\n",
       "    }\n",
       "</style>\n",
       "<table border=\"1\" class=\"dataframe\">\n",
       "  <thead>\n",
       "    <tr style=\"text-align: right;\">\n",
       "      <th></th>\n",
       "      <th>vas_id</th>\n",
       "      <th>mean</th>\n",
       "      <th>count</th>\n",
       "    </tr>\n",
       "  </thead>\n",
       "  <tbody>\n",
       "    <tr>\n",
       "      <th>0</th>\n",
       "      <td>1</td>\n",
       "      <td>0.009858</td>\n",
       "      <td>288100</td>\n",
       "    </tr>\n",
       "    <tr>\n",
       "      <th>1</th>\n",
       "      <td>2</td>\n",
       "      <td>0.095976</td>\n",
       "      <td>204531</td>\n",
       "    </tr>\n",
       "    <tr>\n",
       "      <th>2</th>\n",
       "      <td>4</td>\n",
       "      <td>0.199510</td>\n",
       "      <td>75084</td>\n",
       "    </tr>\n",
       "    <tr>\n",
       "      <th>3</th>\n",
       "      <td>5</td>\n",
       "      <td>0.081979</td>\n",
       "      <td>71721</td>\n",
       "    </tr>\n",
       "    <tr>\n",
       "      <th>4</th>\n",
       "      <td>6</td>\n",
       "      <td>0.654708</td>\n",
       "      <td>39891</td>\n",
       "    </tr>\n",
       "    <tr>\n",
       "      <th>5</th>\n",
       "      <td>7</td>\n",
       "      <td>0.003418</td>\n",
       "      <td>13749</td>\n",
       "    </tr>\n",
       "    <tr>\n",
       "      <th>6</th>\n",
       "      <td>8</td>\n",
       "      <td>0.002584</td>\n",
       "      <td>11998</td>\n",
       "    </tr>\n",
       "    <tr>\n",
       "      <th>7</th>\n",
       "      <td>9</td>\n",
       "      <td>0.032008</td>\n",
       "      <td>3874</td>\n",
       "    </tr>\n",
       "  </tbody>\n",
       "</table>\n",
       "</div>"
      ],
      "text/plain": [
       "   vas_id      mean   count\n",
       "0       1  0.009858  288100\n",
       "1       2  0.095976  204531\n",
       "2       4  0.199510   75084\n",
       "3       5  0.081979   71721\n",
       "4       6  0.654708   39891\n",
       "5       7  0.003418   13749\n",
       "6       8  0.002584   11998\n",
       "7       9  0.032008    3874"
      ]
     },
     "execution_count": 9,
     "metadata": {},
     "output_type": "execute_result"
    }
   ],
   "source": [
    "stat_vas.loc[stat_vas.vas_id.isin([2, 5, 6]), 'mean'] = stat_vas.loc[stat_vas.vas_id.isin([2, 5, 6]), 'mean']**0.5\n",
    "stat_vas"
   ]
  },
  {
   "cell_type": "markdown",
   "metadata": {},
   "source": [
    "Заметим, что минимальное число вхождений в группу чуть меньше 4 тысяч. Что, конечно, не очень много, но вполне достаточно, если будет принято решение обучать одну модель для решения о рекомендации услуги клиенту.\n",
    "\n",
    "-----\n",
    "\n",
    "Для бейзлайна модели будем использовать подход, основанный на статистике. Т.е. вероятность предложения определять из популярности подключения услуги (полученный датасет `stat_vas`), для оценки качества подхода реализуем `f1_calc`, которая будет принимать на вход название колонки, подставлять на пропущенные места популярность подключения услуги и показывать `Macro f1 score`:"
   ]
  },
  {
   "cell_type": "code",
   "execution_count": 10,
   "metadata": {},
   "outputs": [
    {
     "data": {
      "text/html": [
       "<div>\n",
       "<style scoped>\n",
       "    .dataframe tbody tr th:only-of-type {\n",
       "        vertical-align: middle;\n",
       "    }\n",
       "\n",
       "    .dataframe tbody tr th {\n",
       "        vertical-align: top;\n",
       "    }\n",
       "\n",
       "    .dataframe thead th {\n",
       "        text-align: right;\n",
       "    }\n",
       "</style>\n",
       "<table border=\"1\" class=\"dataframe\">\n",
       "  <thead>\n",
       "    <tr style=\"text-align: right;\">\n",
       "      <th></th>\n",
       "      <th>target</th>\n",
       "      <th>vas_id</th>\n",
       "      <th>popularity</th>\n",
       "    </tr>\n",
       "  </thead>\n",
       "  <tbody>\n",
       "    <tr>\n",
       "      <th>733315</th>\n",
       "      <td>0.0</td>\n",
       "      <td>2</td>\n",
       "      <td>0.095976</td>\n",
       "    </tr>\n",
       "    <tr>\n",
       "      <th>806084</th>\n",
       "      <td>0.0</td>\n",
       "      <td>5</td>\n",
       "      <td>0.081979</td>\n",
       "    </tr>\n",
       "    <tr>\n",
       "      <th>746360</th>\n",
       "      <td>0.0</td>\n",
       "      <td>1</td>\n",
       "      <td>0.009858</td>\n",
       "    </tr>\n",
       "    <tr>\n",
       "      <th>805861</th>\n",
       "      <td>0.0</td>\n",
       "      <td>2</td>\n",
       "      <td>0.095976</td>\n",
       "    </tr>\n",
       "    <tr>\n",
       "      <th>746741</th>\n",
       "      <td>0.0</td>\n",
       "      <td>1</td>\n",
       "      <td>0.009858</td>\n",
       "    </tr>\n",
       "    <tr>\n",
       "      <th>...</th>\n",
       "      <td>...</td>\n",
       "      <td>...</td>\n",
       "      <td>...</td>\n",
       "    </tr>\n",
       "    <tr>\n",
       "      <th>793142</th>\n",
       "      <td>0.0</td>\n",
       "      <td>1</td>\n",
       "      <td>0.009858</td>\n",
       "    </tr>\n",
       "    <tr>\n",
       "      <th>791222</th>\n",
       "      <td>0.0</td>\n",
       "      <td>2</td>\n",
       "      <td>0.095976</td>\n",
       "    </tr>\n",
       "    <tr>\n",
       "      <th>791374</th>\n",
       "      <td>0.0</td>\n",
       "      <td>6</td>\n",
       "      <td>0.654708</td>\n",
       "    </tr>\n",
       "    <tr>\n",
       "      <th>741257</th>\n",
       "      <td>0.0</td>\n",
       "      <td>5</td>\n",
       "      <td>0.081979</td>\n",
       "    </tr>\n",
       "    <tr>\n",
       "      <th>792575</th>\n",
       "      <td>0.0</td>\n",
       "      <td>2</td>\n",
       "      <td>0.095976</td>\n",
       "    </tr>\n",
       "  </tbody>\n",
       "</table>\n",
       "<p>99790 rows × 3 columns</p>\n",
       "</div>"
      ],
      "text/plain": [
       "        target  vas_id  popularity\n",
       "733315     0.0       2    0.095976\n",
       "806084     0.0       5    0.081979\n",
       "746360     0.0       1    0.009858\n",
       "805861     0.0       2    0.095976\n",
       "746741     0.0       1    0.009858\n",
       "...        ...     ...         ...\n",
       "793142     0.0       1    0.009858\n",
       "791222     0.0       2    0.095976\n",
       "791374     0.0       6    0.654708\n",
       "741257     0.0       5    0.081979\n",
       "792575     0.0       2    0.095976\n",
       "\n",
       "[99790 rows x 3 columns]"
      ]
     },
     "execution_count": 10,
     "metadata": {},
     "output_type": "execute_result"
    }
   ],
   "source": [
    "results = f_test_df[['target']].copy()\n",
    "results['vas_id'] = f_test_df['vas_id'].astype('int')\n",
    "results = results.join(stat_vas[['vas_id', 'mean']].set_index('vas_id'), on='vas_id', rsuffix='_r')[['target', 'vas_id', 'mean']]\n",
    "results.columns = ['target', 'vas_id', 'popularity']\n",
    "# results['log_reg'] = np.nan\n",
    "# results.loc[f_test_df_nnul.index, 'log_reg'] = f_test_df_nnul['pred']\n",
    "results"
   ]
  },
  {
   "cell_type": "code",
   "execution_count": 5,
   "metadata": {},
   "outputs": [],
   "source": [
    "def f1_calc(column, threshold=0.5, randomize_popular=True, seed=None, return_preds=False):\n",
    "    assert column in results.columns, f'\"{column}\" must be in \"results.columns\"'\n",
    "    \n",
    "    if randomize_popular:\n",
    "        np.random.seed(seed)\n",
    "        koeff = np.random.normal(loc=1, scale=1, size=results.popularity.shape[0])\n",
    "    else:\n",
    "        koeff = 1\n",
    "    popular = results.popularity * koeff\n",
    "    \n",
    "    if column == 'popularity':\n",
    "        pred = popular\n",
    "    else:\n",
    "        tmp = results[[column]].copy()\n",
    "        tmp['popularity'] = popular.copy()\n",
    "        tmp.loc[tmp[column].isna(), column] = tmp['popularity']\n",
    "        pred = tmp[column]\n",
    "    \n",
    "    if return_preds:\n",
    "        return pred\n",
    "    \n",
    "    pred = np.where(pred > threshold, 1, 0)\n",
    "    \n",
    "    return f1_score(results.target, pred, average='macro')\n",
    "\n",
    "def f1_draw(column, randomize_popular=True, seed=None, step=0.05):\n",
    "    assert column in results.columns, f'\"{column}\" must be in \"results.columns\"'\n",
    "    \n",
    "    f1_dict = dict()\n",
    "    ran = int(1 / step)\n",
    "    for i in range(1, ran + 1):\n",
    "        f1_dict[i / ran] = f1_calc(column, threshold=i / ran, randomize_popular=randomize_popular, seed=seed)\n",
    "        \n",
    "    max_elem = [[k, v] for k, v in sorted(f1_dict.items(), key=lambda item: item[1], reverse=True)][0]\n",
    "    \n",
    "    plt.grid(alpha=0.3)\n",
    "    plt.plot(f1_dict.keys(), f1_dict.values(), color='green', label=column)\n",
    "    plt.scatter(max_elem[0], max_elem[1], color='red', label=f'Threshold = {max_elem[0]}, F1 = {round(max_elem[1], 5)}')\n",
    "    plt.xlabel('Threshold')\n",
    "    plt.ylabel('f1 score')\n",
    "    plt.title('Dependence of the F1 score on the selected threshold')\n",
    "    plt.legend()\n",
    "    plt.show()\n",
    "\n",
    "    print(f'При пороге {max_elem[0]} значение F1 (macro) принимает максимальное значение в {round(max_elem[1], 5)}')"
   ]
  },
  {
   "cell_type": "code",
   "execution_count": 12,
   "metadata": {},
   "outputs": [
    {
     "data": {
      "image/png": "[encoded data removed]",
      "text/plain": [
       "<Figure size 432x288 with 1 Axes>"
      ]
     },
     "metadata": {
      "needs_background": "light"
     },
     "output_type": "display_data"
    },
    {
     "name": "stdout",
     "output_type": "stream",
     "text": [
      "При пороге 0.35 значение F1 (macro) принимает максимальное значение в 0.69786\n"
     ]
    }
   ],
   "source": [
    "f1_draw('popularity', seed=10)"
   ]
  },
  {
   "cell_type": "markdown",
   "metadata": {},
   "source": [
    "Как видно, даже если делать предложения только тем клиентам, которым предполагается изначально предложить только 6 услугу (а именно она имеет вероятность подключения выше 0.5), то даже в таком случае метрика выходит крайне достойная, но правильно ли это? Вряд ли. Поэтому в расчет по популярности добавлен случайный множитель из нормального распределения с мат. ожиданием в 1, что не будет изменять среднее значение, но добавит некоторую долю вариативности.\n",
    "\n",
    "В общем случае описанное выше говорит лишь о том, что существует крайне различное поведение между случаями различных предложений услуг клиентам. Поэтому есть предположение, что модели, которые специальным образом не будут учитывать предлагаемую услугу будут отрабатывать хуже, чем модели, учитывающие конкретную услугу.\n",
    "\n",
    "Построим модель лог. регрессии общую для всего датасета и затем отдельно 8 моделей для каждой из услуг и проверим это:"
   ]
  },
  {
   "cell_type": "code",
   "execution_count": 10,
   "metadata": {},
   "outputs": [],
   "source": [
    "f_train_df_nnul = f_train_df.loc[~f_train_df.isna().any(axis=1)]\n",
    "f_test_df_nnul = f_test_df.loc[~f_test_df.isna().any(axis=1)]"
   ]
  },
  {
   "cell_type": "code",
   "execution_count": 37,
   "metadata": {},
   "outputs": [
    {
     "name": "stdout",
     "output_type": "stream",
     "text": [
      "Wall time: 1min 6s\n"
     ]
    }
   ],
   "source": [
    "%%time\n",
    "model = LogisticRegression(n_jobs=-1)\n",
    "model.fit(f_train_df_nnul.drop(columns=['id', 'target', 'buy_time']), f_train_df_nnul.target)\n",
    "pred = model.predict_proba(f_test_df_nnul.drop(columns=['id', 'target', 'buy_time']))"
   ]
  },
  {
   "cell_type": "code",
   "execution_count": 38,
   "metadata": {
    "scrolled": false
   },
   "outputs": [
    {
     "data": {
      "text/html": [
       "<div>\n",
       "<style scoped>\n",
       "    .dataframe tbody tr th:only-of-type {\n",
       "        vertical-align: middle;\n",
       "    }\n",
       "\n",
       "    .dataframe tbody tr th {\n",
       "        vertical-align: top;\n",
       "    }\n",
       "\n",
       "    .dataframe thead th {\n",
       "        text-align: right;\n",
       "    }\n",
       "</style>\n",
       "<table border=\"1\" class=\"dataframe\">\n",
       "  <thead>\n",
       "    <tr style=\"text-align: right;\">\n",
       "      <th></th>\n",
       "      <th>target</th>\n",
       "      <th>vas_id</th>\n",
       "      <th>popularity</th>\n",
       "      <th>log_reg</th>\n",
       "    </tr>\n",
       "  </thead>\n",
       "  <tbody>\n",
       "    <tr>\n",
       "      <th>733315</th>\n",
       "      <td>0.0</td>\n",
       "      <td>2</td>\n",
       "      <td>0.095976</td>\n",
       "      <td>0.446514</td>\n",
       "    </tr>\n",
       "    <tr>\n",
       "      <th>806084</th>\n",
       "      <td>0.0</td>\n",
       "      <td>5</td>\n",
       "      <td>0.081979</td>\n",
       "      <td>0.504067</td>\n",
       "    </tr>\n",
       "    <tr>\n",
       "      <th>746360</th>\n",
       "      <td>0.0</td>\n",
       "      <td>1</td>\n",
       "      <td>0.009858</td>\n",
       "      <td>0.504077</td>\n",
       "    </tr>\n",
       "    <tr>\n",
       "      <th>805861</th>\n",
       "      <td>0.0</td>\n",
       "      <td>2</td>\n",
       "      <td>0.095976</td>\n",
       "      <td>0.542080</td>\n",
       "    </tr>\n",
       "    <tr>\n",
       "      <th>746741</th>\n",
       "      <td>0.0</td>\n",
       "      <td>1</td>\n",
       "      <td>0.009858</td>\n",
       "      <td>0.446677</td>\n",
       "    </tr>\n",
       "  </tbody>\n",
       "</table>\n",
       "</div>"
      ],
      "text/plain": [
       "        target  vas_id  popularity   log_reg\n",
       "733315     0.0       2    0.095976  0.446514\n",
       "806084     0.0       5    0.081979  0.504067\n",
       "746360     0.0       1    0.009858  0.504077\n",
       "805861     0.0       2    0.095976  0.542080\n",
       "746741     0.0       1    0.009858  0.446677"
      ]
     },
     "execution_count": 38,
     "metadata": {},
     "output_type": "execute_result"
    }
   ],
   "source": [
    "f_test_df_nnul = f_test_df_nnul.reset_index()\n",
    "f_test_df_nnul['pred'] = pred[:, 1]\n",
    "f_test_df_nnul.index = f_test_df_nnul['index']\n",
    "f_test_df_nnul.drop(columns='index', inplace=True)\n",
    "\n",
    "results['log_reg'] = np.nan\n",
    "results.loc[f_test_df_nnul.index, 'log_reg'] = f_test_df_nnul['pred']\n",
    "results.head()"
   ]
  },
  {
   "cell_type": "code",
   "execution_count": 46,
   "metadata": {},
   "outputs": [
    {
     "data": {
      "image/png": "[encoded data removed]",
      "text/plain": [
       "<Figure size 432x288 with 1 Axes>"
      ]
     },
     "metadata": {
      "needs_background": "light"
     },
     "output_type": "display_data"
    },
    {
     "name": "stdout",
     "output_type": "stream",
     "text": [
      "При пороге 0.65 значение F1 (macro) принимает максимальное значение в 0.549\n"
     ]
    }
   ],
   "source": [
    "f1_draw('log_reg', seed=10)"
   ]
  },
  {
   "cell_type": "markdown",
   "metadata": {},
   "source": [
    "Как и ожидалось, модель, не учитывающая особенности каждой услуги, отработала не очень хорошо."
   ]
  },
  {
   "cell_type": "code",
   "execution_count": 175,
   "metadata": {},
   "outputs": [],
   "source": [
    "f_train_df_nnul = f_train_df.loc[~f_train_df.isna().any(axis=1)]\n",
    "f_test_df_nnul = f_test_df.loc[~f_test_df.isna().any(axis=1)]\n",
    "f_train_df_nnul.buy_time = f_train_df_nnul.buy_time.view(dtype='int64')\n",
    "f_test_df_nnul.buy_time = f_test_df_nnul.buy_time.view(dtype='int64')\n",
    "f_test_df_nnul['pred'] = np.nan"
   ]
  },
  {
   "cell_type": "code",
   "execution_count": 176,
   "metadata": {
    "scrolled": true
   },
   "outputs": [
    {
     "name": "stdout",
     "output_type": "stream",
     "text": [
      "Wall time: 1min 30s\n"
     ]
    }
   ],
   "source": [
    "%%time\n",
    "to_drop = ['id', 'target', 'vas_id', 'buy_time']\n",
    "f_test_df_nnul['pred'] = np.nan\n",
    "\n",
    "dedicated_model = dict()\n",
    "for val in results.vas_id.value_counts().index:\n",
    "    model = LogisticRegression(solver='saga')\n",
    "    model.fit(f_train_df_nnul.loc[f_train_df_nnul.vas_id == val].drop(columns=to_drop),\n",
    "              f_train_df_nnul.loc[f_train_df_nnul.vas_id == val, 'target']\n",
    "              )\n",
    "    dedicated_model[val] = model\n",
    "    f_test_df_nnul.loc[f_test_df_nnul.vas_id == val, 'pred'] = \\\n",
    "        model.predict_proba(f_test_df_nnul.loc[f_test_df_nnul.vas_id == val].drop(\n",
    "            columns=to_drop + ['pred']))[:, 1].copy()"
   ]
  },
  {
   "cell_type": "code",
   "execution_count": 177,
   "metadata": {},
   "outputs": [
    {
     "data": {
      "image/png": "[encoded data removed]",
      "text/plain": [
       "<Figure size 432x288 with 1 Axes>"
      ]
     },
     "metadata": {
      "needs_background": "light"
     },
     "output_type": "display_data"
    },
    {
     "name": "stdout",
     "output_type": "stream",
     "text": [
      "При пороге 0.6 значение F1 (macro) принимает максимальное значение в 0.52195\n"
     ]
    }
   ],
   "source": [
    "results['log_reg_dedec'] = np.nan\n",
    "results.loc[f_test_df_nnul.index, 'log_reg_dedec'] = f_test_df_nnul['pred']\n",
    "\n",
    "f1_draw('log_reg_dedec', seed=10)"
   ]
  },
  {
   "cell_type": "code",
   "execution_count": 187,
   "metadata": {},
   "outputs": [
    {
     "name": "stdout",
     "output_type": "stream",
     "text": [
      "Wall time: 1min 42s\n"
     ]
    }
   ],
   "source": [
    "%%time\n",
    "to_drop = ['id', 'target']\n",
    "f_test_df_nnul['pred'] = np.nan\n",
    "\n",
    "model = CatBoostClassifier(verbose=False)\n",
    "model.fit(f_train_df_nnul.drop(columns=to_drop), f_train_df_nnul.target)\n",
    "pred = model.predict_proba(f_test_df_nnul.drop(columns=to_drop))\n",
    "\n",
    "f_test_df_nnul = f_test_df_nnul.reset_index()\n",
    "f_test_df_nnul['pred'] = pred[:, 1]\n",
    "f_test_df_nnul.index = f_test_df_nnul['index']\n",
    "f_test_df_nnul.drop(columns='index', inplace=True)"
   ]
  },
  {
   "cell_type": "code",
   "execution_count": 188,
   "metadata": {},
   "outputs": [
    {
     "data": {
      "image/png": "[encoded data removed]",
      "text/plain": [
       "<Figure size 432x288 with 1 Axes>"
      ]
     },
     "metadata": {
      "needs_background": "light"
     },
     "output_type": "display_data"
    },
    {
     "name": "stdout",
     "output_type": "stream",
     "text": [
      "При пороге 0.25 значение F1 (macro) принимает максимальное значение в 0.72269\n"
     ]
    }
   ],
   "source": [
    "results['catboost'] = np.nan\n",
    "results.loc[f_test_df_nnul.index, 'catboost'] = f_test_df_nnul['pred']\n",
    "\n",
    "f1_draw('catboost')"
   ]
  },
  {
   "cell_type": "markdown",
   "metadata": {},
   "source": [
    "Метрика получилась как минимум выше того, что вышло на бейзлайне. Что уже не может не радовать. Попробуем модель с распределением по услугам, хотя здесь она может не дать существенных различий из-за принципа работы бустинга:"
   ]
  },
  {
   "cell_type": "code",
   "execution_count": 190,
   "metadata": {},
   "outputs": [
    {
     "name": "stdout",
     "output_type": "stream",
     "text": [
      "Wall time: 3min 38s\n"
     ]
    }
   ],
   "source": [
    "%%time\n",
    "to_drop = ['id', 'target', 'vas_id']\n",
    "\n",
    "f_test_df_nnul['pred'] = np.nan\n",
    "\n",
    "dedicated_model = dict()\n",
    "for val in results.vas_id.value_counts().index:\n",
    "    model = CatBoostClassifier(verbose=False)\n",
    "    model.fit(f_train_df_nnul.loc[f_train_df_nnul.vas_id == val].drop(columns=to_drop),\n",
    "              f_train_df_nnul.loc[f_train_df_nnul.vas_id == val, 'target']\n",
    "              )\n",
    "    dedicated_model[val] = model\n",
    "    f_test_df_nnul.loc[f_test_df_nnul.vas_id == val, 'pred'] = \\\n",
    "        model.predict_proba(f_test_df_nnul.loc[f_test_df_nnul.vas_id == val].drop(\n",
    "            columns=to_drop + ['pred']))[:, 1].copy()"
   ]
  },
  {
   "cell_type": "code",
   "execution_count": 191,
   "metadata": {},
   "outputs": [
    {
     "data": {
      "image/png": "[encoded data removed]",
      "text/plain": [
       "<Figure size 432x288 with 1 Axes>"
      ]
     },
     "metadata": {
      "needs_background": "light"
     },
     "output_type": "display_data"
    },
    {
     "name": "stdout",
     "output_type": "stream",
     "text": [
      "При пороге 0.3 значение F1 (macro) принимает максимальное значение в 0.72579\n"
     ]
    }
   ],
   "source": [
    "results['catboost_dedec'] = np.nan\n",
    "results.loc[f_test_df_nnul.index, 'catboost_dedec'] = f_test_df_nnul['pred']\n",
    "\n",
    "f1_draw('catboost_dedec')"
   ]
  },
  {
   "cell_type": "markdown",
   "metadata": {},
   "source": [
    "Метрика хоть и несколько возросла, но не критично, как и предполагалось. Поэтому для оптимизации конечной модели предлагается использоваль `catboost` без разбиения на услуги:"
   ]
  },
  {
   "cell_type": "code",
   "execution_count": 6,
   "metadata": {},
   "outputs": [],
   "source": [
    "class VAS_promotion():\n",
    "    def __init__(self, seed=None, **kwargs):\n",
    "        self.model = CatBoostClassifier(verbose=False, **kwargs)\n",
    "        self.seed=seed\n",
    "        \n",
    "    def fit(self, X, target='target'):\n",
    "        self.stat_vas = X.groupby('vas_id')[target].agg(['mean', 'count']).reset_index()[['vas_id', 'mean', 'count']]\n",
    "        self.stat_vas.vas_id = self.stat_vas.vas_id.astype('int')\n",
    "        self.stat_vas.loc[self.stat_vas.vas_id.isin([2, 5, 6]), 'mean'] = self.stat_vas.loc[self.stat_vas.vas_id.isin([2, 5, 6]), 'mean']**0.5\n",
    "        \n",
    "        X_nnul = X.loc[~X.isna().any(axis=1)].copy()\n",
    "        X_nnul.buy_time = X_nnul.buy_time.view(dtype='int64')\n",
    "        X_nnul['pred'] = np.nan\n",
    "\n",
    "        to_drop = ['id', target]\n",
    "\n",
    "        self.model.fit(X_nnul.drop(columns=to_drop), X_nnul[target])\n",
    "        \n",
    "    def predict_proba(self, X):\n",
    "        \n",
    "        X_nnul = X.loc[~X.isna().any(axis=1)].copy()\n",
    "        \n",
    "        to_drop = ['id']\n",
    "\n",
    "        pred = self.model.predict_proba(X_nnul.drop(columns=to_drop))\n",
    "\n",
    "        X_nnul = X_nnul.reset_index()\n",
    "        X_nnul['pred'] = pred[:, 1]\n",
    "        X_nnul.index = X_nnul['index']\n",
    "        X_nnul.drop(columns='index', inplace=True)\n",
    "        \n",
    "        results = X[['buy_time', 'id', 'vas_id']].copy()\n",
    "        results['vas_id'] = X['vas_id'].astype('int')\n",
    "        results = results.join(self.stat_vas[['vas_id', 'mean']].set_index('vas_id'), on='vas_id', rsuffix='_r')[['buy_time', 'id', 'vas_id', 'mean']]\n",
    "        results.columns = ['buy_time', 'id', 'vas_id', 'popularity']\n",
    "        results['catboost'] = np.nan\n",
    "        results.loc[X_nnul.index, 'catboost'] = X_nnul['pred']\n",
    "        \n",
    "        self.X_nnul = X_nnul.copy()\n",
    "        self.results = results.copy()\n",
    "\n",
    "        np.random.seed(self.seed)\n",
    "        koeff = np.random.normal(loc=1, scale=1, size=results.popularity.shape[0])\n",
    "        popular = results.popularity * koeff\n",
    "        \n",
    "        tmp = results.copy()\n",
    "        tmp.popularity = tmp.popularity * koeff\n",
    "        tmp.loc[tmp['catboost'].isna(), 'catboost'] = tmp['popularity']\n",
    "        pred = tmp[['buy_time', 'id', 'vas_id', 'catboost']]\n",
    "\n",
    "        return pred\n",
    "    \n",
    "    def predict(self, X, threshold=0.5):\n",
    "        preds_proba = self.predict_proba(X).copy()\n",
    "        preds_proba['catboost'] = preds_proba['catboost'].where(preds_proba['catboost'] < threshold, 1)\n",
    "        preds_proba['catboost'] = preds_proba['catboost'].where(preds_proba['catboost'] >= threshold, 0)\n",
    "        \n",
    "        return preds_proba"
   ]
  },
  {
   "cell_type": "code",
   "execution_count": 13,
   "metadata": {},
   "outputs": [],
   "source": [
    "merged_test_df = pd.merge_asof(test_df.sort_values('buy_time'),\n",
    "                                  dd_df.sort_values('buy_time'),\n",
    "                                  by='id',\n",
    "                                  on='buy_time',\n",
    "                                  tolerance=max_delta,\n",
    "                                  direction='backward'\n",
    "                                 ).sort_values('id')"
   ]
  },
  {
   "cell_type": "code",
   "execution_count": 11,
   "metadata": {},
   "outputs": [],
   "source": [
    "model_vas = VAS_promotion(seed=10)\n",
    "model_vas.fit(f_train_df)"
   ]
  },
  {
   "cell_type": "code",
   "execution_count": 18,
   "metadata": {},
   "outputs": [
    {
     "data": {
      "text/html": [
       "<div>\n",
       "<style scoped>\n",
       "    .dataframe tbody tr th:only-of-type {\n",
       "        vertical-align: middle;\n",
       "    }\n",
       "\n",
       "    .dataframe tbody tr th {\n",
       "        vertical-align: top;\n",
       "    }\n",
       "\n",
       "    .dataframe thead th {\n",
       "        text-align: right;\n",
       "    }\n",
       "</style>\n",
       "<table border=\"1\" class=\"dataframe\">\n",
       "  <thead>\n",
       "    <tr style=\"text-align: right;\">\n",
       "      <th></th>\n",
       "      <th>buy_time</th>\n",
       "      <th>id</th>\n",
       "      <th>vas_id</th>\n",
       "      <th>catboost</th>\n",
       "    </tr>\n",
       "  </thead>\n",
       "  <tbody>\n",
       "    <tr>\n",
       "      <th>44286</th>\n",
       "      <td>2019-01-13 21:00:00</td>\n",
       "      <td>55</td>\n",
       "      <td>2</td>\n",
       "      <td>0.0</td>\n",
       "    </tr>\n",
       "    <tr>\n",
       "      <th>63606</th>\n",
       "      <td>2019-01-20 21:00:00</td>\n",
       "      <td>64</td>\n",
       "      <td>4</td>\n",
       "      <td>0.0</td>\n",
       "    </tr>\n",
       "    <tr>\n",
       "      <th>44183</th>\n",
       "      <td>2019-01-13 21:00:00</td>\n",
       "      <td>151</td>\n",
       "      <td>2</td>\n",
       "      <td>0.0</td>\n",
       "    </tr>\n",
       "    <tr>\n",
       "      <th>63585</th>\n",
       "      <td>2019-01-20 21:00:00</td>\n",
       "      <td>274</td>\n",
       "      <td>4</td>\n",
       "      <td>0.0</td>\n",
       "    </tr>\n",
       "    <tr>\n",
       "      <th>44373</th>\n",
       "      <td>2019-01-13 21:00:00</td>\n",
       "      <td>274</td>\n",
       "      <td>2</td>\n",
       "      <td>0.0</td>\n",
       "    </tr>\n",
       "  </tbody>\n",
       "</table>\n",
       "</div>"
      ],
      "text/plain": [
       "                 buy_time   id  vas_id  catboost\n",
       "44286 2019-01-13 21:00:00   55       2       0.0\n",
       "63606 2019-01-20 21:00:00   64       4       0.0\n",
       "44183 2019-01-13 21:00:00  151       2       0.0\n",
       "63585 2019-01-20 21:00:00  274       4       0.0\n",
       "44373 2019-01-13 21:00:00  274       2       0.0"
      ]
     },
     "execution_count": 18,
     "metadata": {},
     "output_type": "execute_result"
    }
   ],
   "source": [
    "preds = model_vas.predict(merged_test_df)\n",
    "preds.head()"
   ]
  },
  {
   "cell_type": "markdown",
   "metadata": {},
   "source": [
    "После получения результатов предсказания модели можно сделать постфильтрацию данных на основе бизнес-логики.\n",
    "\n",
    "Например, пользователям, которым ранее конкретная услуга предлагалась, далее ее уже не предлагать. Здесь потенциально может быть два варианта: пользователь принял предложение, а значит (пока он не отключил ее) предлагать больше смысла нет; а также пользователь не принял предложение, значит его что-то не устроило, поэтому также предлагать пока ее смысла нет."
   ]
  },
  {
   "cell_type": "code",
   "execution_count": 19,
   "metadata": {},
   "outputs": [],
   "source": [
    "def post_filtration(merged_train_df, merged_test_df, preds, column):\n",
    "    min_index = merged_train_df.shape[0]\n",
    "    \n",
    "    merged = merged_train_df.drop(columns='target').append(merged_test_df)[['id', 'vas_id', 'buy_time']]\n",
    "    merged.reset_index(inplace=True)\n",
    "    \n",
    "    index_dict = merged['index'].to_dict()\n",
    "    \n",
    "    grouped_id_vas = merged.sort_values('buy_time', ascending=True).groupby(['vas_id', 'id']).cumcount() + 1\n",
    "    grouped_id_vas = grouped_id_vas.loc[(grouped_id_vas > 1) & (grouped_id_vas.index >= min_index)]\n",
    "    \n",
    "    idx = [index_dict[idx] for idx in grouped_id_vas.index]\n",
    "    preds = preds.copy()\n",
    "    preds.loc[idx, column] = 0\n",
    "    \n",
    "    \n",
    "    return preds"
   ]
  },
  {
   "cell_type": "code",
   "execution_count": 20,
   "metadata": {},
   "outputs": [],
   "source": [
    "preds_filtered = post_filtration(merged_train_df, merged_test_df, preds, 'catboost')"
   ]
  },
  {
   "cell_type": "code",
   "execution_count": 23,
   "metadata": {},
   "outputs": [],
   "source": [
    "preds_filtered.to_csv(DATA_PATH / 'predicts.csv', index=False)\n",
    "\n",
    "with open(DATA_PATH / 'model_vas.dill', 'wb') as f:\n",
    "    dill.dump(model_vas, f)"
   ]
  }
 ],
 "metadata": {
  "kernelspec": {
   "display_name": "Python 3",
   "language": "python",
   "name": "python3"
  },
  "language_info": {
   "codemirror_mode": {
    "name": "ipython",
    "version": 3
   },
   "file_extension": ".py",
   "mimetype": "text/x-python",
   "name": "python",
   "nbconvert_exporter": "python",
   "pygments_lexer": "ipython3",
   "version": "3.8.5"
  },
  "toc": {
   "base_numbering": 1,
   "nav_menu": {},
   "number_sections": false,
   "sideBar": true,
   "skip_h1_title": false,
   "title_cell": "Table of Contents",
   "title_sidebar": "Contents",
   "toc_cell": false,
   "toc_position": {},
   "toc_section_display": true,
   "toc_window_display": false
  }
 },
 "nbformat": 4,
 "nbformat_minor": 4
}
